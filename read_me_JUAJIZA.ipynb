{
 "cells": [
  {
   "cell_type": "markdown",
   "id": "710b437b",
   "metadata": {},
   "source": [
    "<span style=\"color: #2917f3ff;\">**EDA: RELACIÓN DE LOS PRINCIPALES ÍNDICES ECONÓMICOS**</span>\n",
    "\n",
    "\n",
    "<span style=\"color: #a11056ff;\">*EL VALOR DE BITCOIN ESTÁ MÁS LIGADO A LA M2 QUE OTROS ÍNDICES COMO EL SP500 O EL ORO*</span>\n"
   ]
  },
  {
   "cell_type": "markdown",
   "id": "aaf20310",
   "metadata": {},
   "source": [
    "![imagen](./img/corr5.jpg)"
   ]
  },
  {
   "cell_type": "markdown",
   "id": "bc0dd26e",
   "metadata": {},
   "source": [
    "<span style=\"color: #2917f3ff;\">**INTRODUCCIÓN**</span>\n",
    "\n",
    "\n",
    "En este EDA se intenta demostrar la correlación entre principales índices económicos. Para intentar simplificar el estudio y debido a ciertas limitaciones a la hora de descargar datos, el estudio se lleva a cabo con la información del indice bursatil SP500, el precio de Bitcoin y el precio de los futuros del oro respecto a los valores de la M2 o efectivo disponible en el sistema.\n",
    "\n",
    "El análisis abarca desde octubre de 2014 hasta agosto de 2025, utilizando datos mensuales porque la m2 que nos proporciona la pagina web oficial de la reserva federal estadounidense está expresada en frecuencia mensual.\n",
    "\n",
    "El objetivo principal es comparar el crecimiento relativo de estos activos y la masa monetaria a lo largo del tiempo, normalizando los datos para que todas las series comiencen desde el mismo punto inicial (octubre de 2014) y así facilitar la comparación visual de su rendimiento."
   ]
  },
  {
   "cell_type": "markdown",
   "id": "0655581c",
   "metadata": {},
   "source": [
    "<span style=\"color: #2917f3ff;\">**PREPARACION Y NORMALIZACIÓN DE DATOS**</span>\n",
    "\n",
    "\n",
    "El análisis comienza con la carga y limpieza de los datos de cada serie a traves de la libreria de yahoo finance y a traves de los datos oficiales de la reserva federal. Para ello forzamos a la que cada columna de datos muestre siempre el mismo numero de datos (desde octubre de 2014 hasta agosto de 2025). El código utiliza bibliotecas como pandas para la manipulación de datos y matplotlib o plotly para la visualización.  Un paso clave es la creación de una columna combinada (dfunido) que almacena todos los datos normalizados de los cuatro indices economicos en cuatro columnas."
   ]
  },
  {
   "cell_type": "markdown",
   "id": "c92d4858",
   "metadata": {},
   "source": [
    "<span style=\"color: #2917f3ff;\">**VISUALIZACIÓN DE RESULTADOS**</span>\n",
    "\n",
    "\n",
    "El gráfico principal superpone las cuatro series (M2, S&P 500, Oro, Bitcoin) en una sola figura, con el eje Y normalizado. Esto permite ver claramente que Bitcoin ha tenido el mayor crecimiento, seguido por el S&P 500, el oro y, finalmente, la oferta monetaria M2. También se crea un gráfico con plotly que utiliza un segundo eje Y para representar el precio del Bitcoin, que tiene una escala mucho mayor, lo que evita que las otras series sean invisibles. El fondo del gráfico se establece en un color verde claro (D7F3ED) para mejorar la estética.\n",
    "Como gráficos significativos utilizamos el mapa de correlación y el mapa de calor donde se demuestra que la hipótesis planteada de que el precio del bitcoin está altamente influenciada por el valor de la M2 no es cierto con los datos disponibles del estudio."
   ]
  },
  {
   "cell_type": "markdown",
   "id": "c8abd1ae",
   "metadata": {},
   "source": [
    "<span style=\"color: #2917f3ff;\">**RESUMEN**</span>\n",
    "\n",
    "\n",
    "\n",
    "El análisis de correlación revela resultados matizados: aunque la hipótesis inicial sugería un fuerte vínculo entre Bitcoin y la M2, los datos disponibles demuestran que el S&P 500 presenta la correlación más alta con la expansión monetaria estadounidense. Bitcoin, en cambio, exhibe la menor correlación, probablemente influenciada por factores especulativos globales y su naturaleza descentralizada. En las conclusiones, se destaca que tanto la renta variable como el oro parecen beneficiarse del aumento de M2, lo que sugiere que gran parte del incremento de valor observado proviene del exceso de liquidez. La presentación subraya también las limitaciones metodológicas —frecuencia mensual de datos y falta de información global de M2— y finaliza con una reflexión sobre la evolución de los activos financieros y la importancia de la comprensión económica individual"
   ]
  }
 ],
 "metadata": {
  "kernelspec": {
   "display_name": "Python 3",
   "language": "python",
   "name": "python3"
  },
  "language_info": {
   "codemirror_mode": {
    "name": "ipython",
    "version": 3
   },
   "file_extension": ".py",
   "mimetype": "text/x-python",
   "name": "python",
   "nbconvert_exporter": "python",
   "pygments_lexer": "ipython3",
   "version": "3.11.9"
  }
 },
 "nbformat": 4,
 "nbformat_minor": 5
}
