{
 "cells": [
  {
   "cell_type": "code",
   "execution_count": 1,
   "id": "5dc1bbe7",
   "metadata": {},
   "outputs": [],
   "source": [
    "#LIBRERIAS******************************************************************************************************\n",
    "import yfinance as yf\n",
    "import pandas as pd\n",
    "import datetime as dt\n",
    "import matplotlib.pyplot as plt\n",
    "import seaborn as sns\n",
    "\n"
   ]
  },
  {
   "cell_type": "code",
   "execution_count": 2,
   "id": "f60fd861",
   "metadata": {},
   "outputs": [
    {
     "name": "stdout",
     "output_type": "stream",
     "text": [
      "datos de m2 es 131 valores en la columna\n"
     ]
    },
    {
     "data": {
      "text/html": [
       "<div>\n",
       "<style scoped>\n",
       "    .dataframe tbody tr th:only-of-type {\n",
       "        vertical-align: middle;\n",
       "    }\n",
       "\n",
       "    .dataframe tbody tr th {\n",
       "        vertical-align: top;\n",
       "    }\n",
       "\n",
       "    .dataframe thead th {\n",
       "        text-align: right;\n",
       "    }\n",
       "</style>\n",
       "<table border=\"1\" class=\"dataframe\">\n",
       "  <thead>\n",
       "    <tr style=\"text-align: right;\">\n",
       "      <th></th>\n",
       "      <th>Fecha</th>\n",
       "      <th>m2</th>\n",
       "    </tr>\n",
       "  </thead>\n",
       "  <tbody>\n",
       "    <tr>\n",
       "      <th>0</th>\n",
       "      <td>2014-10-01</td>\n",
       "      <td>11577.5</td>\n",
       "    </tr>\n",
       "    <tr>\n",
       "      <th>1</th>\n",
       "      <td>2014-11-01</td>\n",
       "      <td>11618.2</td>\n",
       "    </tr>\n",
       "  </tbody>\n",
       "</table>\n",
       "</div>"
      ],
      "text/plain": [
       "       Fecha       m2\n",
       "0 2014-10-01  11577.5\n",
       "1 2014-11-01  11618.2"
      ]
     },
     "execution_count": 2,
     "metadata": {},
     "output_type": "execute_result"
    }
   ],
   "source": [
    "#DESCARGAMOS LOS VALORES DE LA M2********************************************************************************************************\n",
    "\n",
    "import pandas_datareader.data as web\n",
    "import datetime as dt\n",
    "import pandas as pd\n",
    "\n",
    "# --- Parámetros de la Descarga ---\n",
    "# Símbolo oficial para la M2 Desestacionalizada en FRED (Federal Reserve Economic Data)\n",
    "codigo_m2 = 'M2SL' \n",
    "fuente_datos = 'fred'\n",
    "\n",
    "# Rango de fechas solicitado: 30/09/2014 hasta 30/09/2025\n",
    "fecha_inicio = dt.datetime(2014, 10, 1) \n",
    "fecha_fin = dt.datetime(2025, 9, 1) # Usamos el 1 de octubre para asegurar el dato de cierre de septiembre\n",
    "\n",
    "nombre_archivo = \"M2_EEUU_Mensual_2014_2025.csv\"\n",
    "\n",
    "# 1. Descargar los datos mensuales directamente en un DataFrame\n",
    "#print(f\"Descargando datos mensuales de M2 ({codigo_m2}) desde FRED...\")\n",
    "try:\n",
    "    # La M2 ya se publica con frecuencia mensual, por lo que no necesita 'resample'\n",
    "    df_m2 = web.DataReader(codigo_m2, fuente_datos, fecha_inicio, fecha_fin)\n",
    "except Exception as e:\n",
    "    print(f\"Error al descargar datos de FRED: {e}\")\n",
    "    print(\"Asegúrate de tener instalada la librería 'pandas-datareader'.\")\n",
    "    exit()\n",
    "\n",
    "# 2. Formato del DataFrame\n",
    "df_m2.index.name = 'Fecha'\n",
    "df_m2.columns = ['m2'] # La serie 'M2SL' suele estar en miles de millones (Billions)\n",
    "\n",
    "# 3. Guardar el DataFrame a un archivo CSV\n",
    "#df_m2.to_csv(nombre_archivo)\n",
    "df_m2.to_csv('m2_mensual.csv', index=True)\n",
    "\n",
    "\n",
    "print (f\"datos de m2 es {len (df_m2['m2'])} valores en la columna\")  \n",
    "#se demuestra que tenemos 131 valores que son los valores que ajustamos en el resto de dataframes\n",
    "\n",
    "df_m2 = df_m2.reset_index(drop=False)\n",
    "\n",
    "df_m2.head(2)"
   ]
  },
  {
   "cell_type": "code",
   "execution_count": 3,
   "id": "88f7b081",
   "metadata": {},
   "outputs": [
    {
     "name": "stderr",
     "output_type": "stream",
     "text": [
      "[*********************100%***********************]  1 of 1 completed"
     ]
    },
    {
     "name": "stdout",
     "output_type": "stream",
     "text": [
      " datos de SP son 131 VALORES EN LA COLUMNA \n"
     ]
    },
    {
     "name": "stderr",
     "output_type": "stream",
     "text": [
      "\n"
     ]
    },
    {
     "data": {
      "text/html": [
       "<div>\n",
       "<style scoped>\n",
       "    .dataframe tbody tr th:only-of-type {\n",
       "        vertical-align: middle;\n",
       "    }\n",
       "\n",
       "    .dataframe tbody tr th {\n",
       "        vertical-align: top;\n",
       "    }\n",
       "\n",
       "    .dataframe thead th {\n",
       "        text-align: right;\n",
       "    }\n",
       "</style>\n",
       "<table border=\"1\" class=\"dataframe\">\n",
       "  <thead>\n",
       "    <tr style=\"text-align: right;\">\n",
       "      <th></th>\n",
       "      <th>Fecha</th>\n",
       "      <th>P_btc</th>\n",
       "    </tr>\n",
       "  </thead>\n",
       "  <tbody>\n",
       "    <tr>\n",
       "      <th>0</th>\n",
       "      <td>2014-09-30</td>\n",
       "      <td>386.944000</td>\n",
       "    </tr>\n",
       "    <tr>\n",
       "      <th>1</th>\n",
       "      <td>2014-10-31</td>\n",
       "      <td>338.321014</td>\n",
       "    </tr>\n",
       "  </tbody>\n",
       "</table>\n",
       "</div>"
      ],
      "text/plain": [
       "       Fecha       P_btc\n",
       "0 2014-09-30  386.944000\n",
       "1 2014-10-31  338.321014"
      ]
     },
     "execution_count": 3,
     "metadata": {},
     "output_type": "execute_result"
    }
   ],
   "source": [
    "#DESCARGAMOS LOS VALORES DE BITCOIN********************************************************************************************************\n",
    "\n",
    "import yfinance as yf\n",
    "import pandas as pd\n",
    "import datetime as dt\n",
    "\n",
    "# 1. Definir el símbolo y el rango de fechas\n",
    "simbolo_btc = \"BTC-USD\"\n",
    "fecha_inicio = \"2014-09-17\" # Aproximadamente cuando Yahoo Finance comienza a tener datos\n",
    "fecha_fin = \"2025-09-30\"\n",
    "\n",
    "# 2. Descargar los datos diarios en un DataFrame\n",
    "df_diario = yf.download(simbolo_btc, start=fecha_inicio, end=fecha_fin, auto_adjust=False)\n",
    "\n",
    "\n",
    "\n",
    "#  Convertir el índice a tipo datetime (por si no lo está)\n",
    "df_diario.index = pd.to_datetime(df_diario.index)\n",
    "\n",
    "# Convertir de diario a mensual tomando el último valor de cierre de cada mes\n",
    "df_btc = df_diario['Close'].resample('ME').last()\n",
    "\n",
    "# Mostrar los resultados\n",
    "#print(df_mensual.head())\n",
    "\n",
    "\n",
    "\n",
    "\n",
    "# 3. Convertir los datos de \"Cierre\" (Close) de diario a mensual\n",
    "# Utilizamos .resample('M') para agrupar por mes y .last() para tomar el precio de cierre del último día del mes.\n",
    "#df_mensual = df_diario['Close'].resample('M').last().to_frame()\n",
    "\n",
    "# Opcional: renombrar el índice y la columna\n",
    "df_btc.index.name = 'Fecha'\n",
    "df_btc.columns = ['P_btc']\n",
    "\n",
    "df_btc = df_btc.iloc[:-2] \n",
    "print (f\" datos de SP son {len (df_btc['P_btc'])} VALORES EN LA COLUMNA \")\n",
    "# lo dejamos en 131 datos para unificar criterios (la m2 solo tiene 131 valores porque no esta actualizado como los demas datos)\n",
    "\n",
    "df_btc = df_btc.reset_index(drop=False)\n",
    "df_btc.head(2)"
   ]
  },
  {
   "cell_type": "code",
   "execution_count": null,
   "id": "fba65a3d",
   "metadata": {},
   "outputs": [],
   "source": []
  },
  {
   "cell_type": "code",
   "execution_count": null,
   "id": "c30d05b8",
   "metadata": {},
   "outputs": [],
   "source": []
  },
  {
   "cell_type": "code",
   "execution_count": null,
   "id": "7b16ba20",
   "metadata": {},
   "outputs": [],
   "source": []
  },
  {
   "cell_type": "code",
   "execution_count": 4,
   "id": "aba9767f",
   "metadata": {},
   "outputs": [
    {
     "name": "stderr",
     "output_type": "stream",
     "text": [
      "[*********************100%***********************]  1 of 1 completed"
     ]
    },
    {
     "name": "stdout",
     "output_type": "stream",
     "text": [
      " datos de SP son 131 VALORES EN LA COLUMNA \n"
     ]
    },
    {
     "name": "stderr",
     "output_type": "stream",
     "text": [
      "\n"
     ]
    },
    {
     "data": {
      "text/html": [
       "<div>\n",
       "<style scoped>\n",
       "    .dataframe tbody tr th:only-of-type {\n",
       "        vertical-align: middle;\n",
       "    }\n",
       "\n",
       "    .dataframe tbody tr th {\n",
       "        vertical-align: top;\n",
       "    }\n",
       "\n",
       "    .dataframe thead th {\n",
       "        text-align: right;\n",
       "    }\n",
       "</style>\n",
       "<table border=\"1\" class=\"dataframe\">\n",
       "  <thead>\n",
       "    <tr style=\"text-align: right;\">\n",
       "      <th></th>\n",
       "      <th>Fecha</th>\n",
       "      <th>Precio_Cierre_SP500_USD</th>\n",
       "    </tr>\n",
       "  </thead>\n",
       "  <tbody>\n",
       "    <tr>\n",
       "      <th>0</th>\n",
       "      <td>2014-09-30</td>\n",
       "      <td>1972.290039</td>\n",
       "    </tr>\n",
       "    <tr>\n",
       "      <th>1</th>\n",
       "      <td>2014-10-31</td>\n",
       "      <td>2018.050049</td>\n",
       "    </tr>\n",
       "  </tbody>\n",
       "</table>\n",
       "</div>"
      ],
      "text/plain": [
       "       Fecha  Precio_Cierre_SP500_USD\n",
       "0 2014-09-30              1972.290039\n",
       "1 2014-10-31              2018.050049"
      ]
     },
     "execution_count": 4,
     "metadata": {},
     "output_type": "execute_result"
    }
   ],
   "source": [
    "# --- Parámetros de la Descarga PARA LA SERIE SP 500 ---*********************************************************\n",
    "simbolo_sp500 = \"^GSPC\" # Símbolo del S&P 500 en Yahoo Finance\n",
    "# El rango de fechas solicitado: 30/09/2014 hasta 30/09/2025\n",
    "# Ajustamos para que yfinance incluya todos los datos hasta el mes de fin.\n",
    "fecha_inicio = \"2014-09-01\" \n",
    "fecha_fin = \"2025-10-01\" # Usamos el 1 de octubre para asegurar el dato de cierre de septiembre\n",
    "\n",
    "nombre_archivo = \"SP500_Mensual_2014_2025.csv\"\n",
    "\n",
    "# 1. Descargar los datos diarios en un DataFrame\n",
    "\n",
    "try:\n",
    "    df_diario = yf.download(simbolo_sp500, start=fecha_inicio, end=fecha_fin, auto_adjust=False)\n",
    "except Exception as e:\n",
    "    print(f\"Error al descargar datos: {e}\")\n",
    "    exit()\n",
    "\n",
    "# 2. Convertir los datos de \"Cierre\" (Close) de diario a mensual\n",
    "# Agrupamos por mes ('M') y tomamos el precio de cierre del último día del mes (.last())\n",
    "\n",
    "df_sp = df_diario['Close'].resample('ME').last()\n",
    "#df_mensual = df_diario['Close'].resample('M').last().to_frame()\n",
    "\n",
    "# Limpieza y formato\n",
    "df_sp.index.name = 'Fecha'\n",
    "df_sp.columns = ['Precio_Cierre_SP500_USD']\n",
    "\n",
    "# 3. Guardar el DataFrame mensual a un archivo CSV\n",
    "df_sp.to_csv('sp500_mensual.csv', index=True)\n",
    "\n",
    "df_sp = df_sp.iloc[:-2] \n",
    "#df_sp = df.drop(df.index[-2:])\n",
    "print (f\" datos de SP son {len (df_sp['Precio_Cierre_SP500_USD'])} VALORES EN LA COLUMNA \")\n",
    "#lo dejamos en 131 datos para unificar criterios (la m2 solo tiene 131 valores porque no esta actualizado como los demas datos)\n",
    "\n",
    "df_sp = df_sp.reset_index(drop=False)\n",
    "df_sp.head(2)"
   ]
  },
  {
   "cell_type": "code",
   "execution_count": 5,
   "id": "9e1f675e",
   "metadata": {},
   "outputs": [
    {
     "name": "stderr",
     "output_type": "stream",
     "text": [
      "[*********************100%***********************]  1 of 1 completed"
     ]
    },
    {
     "name": "stdout",
     "output_type": "stream",
     "text": [
      " datos de Oro son 131 valores en la columna\n"
     ]
    },
    {
     "name": "stderr",
     "output_type": "stream",
     "text": [
      "\n"
     ]
    },
    {
     "data": {
      "text/html": [
       "<div>\n",
       "<style scoped>\n",
       "    .dataframe tbody tr th:only-of-type {\n",
       "        vertical-align: middle;\n",
       "    }\n",
       "\n",
       "    .dataframe tbody tr th {\n",
       "        vertical-align: top;\n",
       "    }\n",
       "\n",
       "    .dataframe thead th {\n",
       "        text-align: right;\n",
       "    }\n",
       "</style>\n",
       "<table border=\"1\" class=\"dataframe\">\n",
       "  <thead>\n",
       "    <tr style=\"text-align: right;\">\n",
       "      <th></th>\n",
       "      <th>Fecha</th>\n",
       "      <th>P_oro</th>\n",
       "    </tr>\n",
       "  </thead>\n",
       "  <tbody>\n",
       "    <tr>\n",
       "      <th>0</th>\n",
       "      <td>2014-09-30</td>\n",
       "      <td>1210.500000</td>\n",
       "    </tr>\n",
       "    <tr>\n",
       "      <th>1</th>\n",
       "      <td>2014-10-31</td>\n",
       "      <td>1171.099976</td>\n",
       "    </tr>\n",
       "  </tbody>\n",
       "</table>\n",
       "</div>"
      ],
      "text/plain": [
       "       Fecha        P_oro\n",
       "0 2014-09-30  1210.500000\n",
       "1 2014-10-31  1171.099976"
      ]
     },
     "execution_count": 5,
     "metadata": {},
     "output_type": "execute_result"
    }
   ],
   "source": [
    "#DESCARGAMOS LOS VALORES DEL ORO********************************************************************************************************\n",
    "\n",
    "\n",
    "import yfinance as yf\n",
    "import pandas as pd\n",
    "import datetime as dt\n",
    "\n",
    "# --- Parámetros de la Descarga ---\n",
    "# Símbolo para el Contrato de Futuro de Oro (Gold Futures) en Yahoo Finance\n",
    "simbolo_oro = \"GC=F\" \n",
    "\n",
    "# Rango de fechas solicitado: 30/09/2014 hasta 30/09/2025\n",
    "fecha_inicio = \"2014-09-01\" \n",
    "fecha_fin = \"2025-10-01\" # Usamos el 1 de octubre para asegurar el dato de cierre de septiembre\n",
    "\n",
    "nombre_archivo = \"Precio_Oro_Mensual_2014_2025.csv\"\n",
    "\n",
    "# 1. Descargar los datos diarios en un DataFrame\n",
    "try:\n",
    "    # yfinance utiliza la fecha de inicio y la fecha de fin para el rango.\n",
    "    df_diario = yf.download(simbolo_oro, start=fecha_inicio, end=fecha_fin, auto_adjust=False)\n",
    "except Exception as e:\n",
    "    print(f\"Error al descargar datos: {e}\")\n",
    "    exit()\n",
    "\n",
    "# 2. Convertir los datos de \"Cierre\" (Close) de diario a mensual\n",
    "# Agrupamos por mes ('M') y tomamos el precio de cierre del último día del mes (.last())\n",
    "#print(\"Convirtiendo datos diarios a mensuales...\")\n",
    "# Verifica si el DataFrame tiene datos (podría fallar si el símbolo fue incorrecto)\n",
    "if df_diario.empty:\n",
    "    print(\"No se encontraron datos. Verifique el símbolo.\")\n",
    "    exit()\n",
    "\n",
    "df_oro = df_diario['Close'].resample('ME').last()\n",
    "#nombre_archivo =\"sp500_mensual.csv\"\n",
    "# Limpieza y formato\n",
    "df_oro.index.name = 'Fecha'\n",
    "df_oro.columns = ['P_oro'] # Precio por onza troy en USD\n",
    "\n",
    "# 3. Guardar el DataFrame mensual a un archivo CSV\n",
    "df_oro.to_csv('oro_mensual.csv' , index=True )\n",
    "df_oro = df_oro.iloc[:-2]  \n",
    "print (f\" datos de Oro son {len (df_oro['P_oro'])} valores en la columna\")\n",
    "#lo dejamos en 131 datos para unificar criterios (la m2 solo tiene 131 valores porque no esta actualizado como los demas datos)\n",
    "\n",
    "df_oro = df_oro.reset_index(drop=False)\n",
    "df_oro.head(2)"
   ]
  },
  {
   "cell_type": "code",
   "execution_count": null,
   "id": "f383a93e",
   "metadata": {},
   "outputs": [],
   "source": []
  },
  {
   "cell_type": "code",
   "execution_count": 6,
   "id": "16493558",
   "metadata": {},
   "outputs": [
    {
     "data": {
      "image/png": "[encoded data removed]",
      "text/plain": [
       "<Figure size 1200x600 with 1 Axes>"
      ]
     },
     "metadata": {},
     "output_type": "display_data"
    }
   ],
   "source": [
    "#GRAFICAMOS ORO*************************************************\n",
    "import matplotlib.pyplot as plt\n",
    "plt.style.use(\"bmh\")\n",
    "\n",
    "plt.figure(figsize=(12, 6))  # Tamaño de la figura\n",
    "\n",
    "# Graficar línea con personalización\n",
    "plt.plot(df_oro['Fecha'], \n",
    "         df_oro['P_oro'], \n",
    "         linestyle='solid',      # Estilo de línea: 'solid', 'dashed', 'dotted', etc.\n",
    "         color='orange',           # Color de la línea\n",
    "         linewidth=1,            # Grosor de la línea\n",
    "         marker='o',             # Marcadores en puntos ('o', '^', 's', etc.)\n",
    "         markersize=1,           # Tamaño de los marcadores\n",
    "         markerfacecolor='orange',  # Color interior de los marcadores\n",
    "         markeredgecolor='orange')# Color del borde de los marcadores\n",
    "\n",
    "# Añadir título y etiquetas de ejes\n",
    "plt.title('Precio del Oro')\n",
    "plt.xlabel('Fecha')\n",
    "plt.ylabel('Valor $')\n",
    "\n",
    "# Rotar etiquetas del eje X para mejor legibilidad\n",
    "plt.xticks(rotation=45)\n",
    "\n",
    "# Mostrar cuadrícula\n",
    "plt.grid(True)\n",
    "\n",
    "# Mostrar la gráfica\n",
    "plt.show()"
   ]
  },
  {
   "cell_type": "code",
   "execution_count": null,
   "id": "32156572",
   "metadata": {},
   "outputs": [],
   "source": []
  },
  {
   "cell_type": "code",
   "execution_count": null,
   "id": "837cf6d9",
   "metadata": {},
   "outputs": [],
   "source": []
  },
  {
   "cell_type": "code",
   "execution_count": null,
   "id": "b8e557f0",
   "metadata": {},
   "outputs": [],
   "source": []
  },
  {
   "cell_type": "code",
   "execution_count": null,
   "id": "81030414",
   "metadata": {},
   "outputs": [],
   "source": []
  },
  {
   "cell_type": "code",
   "execution_count": null,
   "id": "b8e6d3fe",
   "metadata": {},
   "outputs": [],
   "source": []
  },
  {
   "cell_type": "code",
   "execution_count": 7,
   "id": "2edda0a0",
   "metadata": {},
   "outputs": [
    {
     "data": {
      "image/png": "[encoded data removed]",
      "text/plain": [
       "<Figure size 1200x600 with 1 Axes>"
      ]
     },
     "metadata": {},
     "output_type": "display_data"
    }
   ],
   "source": [
    "#GRAFICAMOS m2*************************************************\n",
    "import matplotlib.pyplot as plt\n",
    "plt.style.use(\"bmh\")\n",
    "\n",
    "plt.figure(figsize=(12, 6))  # Tamaño de la figura\n",
    "\n",
    "# Graficar línea con personalización\n",
    "plt.plot(df_m2['Fecha'], \n",
    "         df_m2['m2'], \n",
    "         linestyle='solid',      # Estilo de línea: 'solid', 'dashed', 'dotted', etc.\n",
    "         color='black',           # Color de la línea\n",
    "         linewidth=1,            # Grosor de la línea\n",
    "         marker='o',             # Marcadores en puntos ('o', '^', 's', etc.)\n",
    "         markersize=1,           # Tamaño de los marcadores\n",
    "         markerfacecolor='black',  # Color interior de los marcadores\n",
    "         markeredgecolor='black')# Color del borde de los marcadores\n",
    "\n",
    "# Añadir título y etiquetas de ejes\n",
    "plt.title('Evolución M2')\n",
    "plt.xlabel('Fecha')\n",
    "plt.ylabel('Trillones $ (billions en EEUU)')\n",
    "\n",
    "# Rotar etiquetas del eje X para mejor legibilidad\n",
    "plt.xticks(rotation=45)\n",
    "\n",
    "# Mostrar cuadrícula\n",
    "plt.grid(True)\n",
    "\n",
    "# Mostrar la gráfica\n",
    "plt.show()"
   ]
  },
  {
   "cell_type": "code",
   "execution_count": null,
   "id": "a52d8b8e",
   "metadata": {},
   "outputs": [],
   "source": [
    "\n",
    "\n"
   ]
  },
  {
   "cell_type": "code",
   "execution_count": 8,
   "id": "def45088",
   "metadata": {},
   "outputs": [
    {
     "name": "stdout",
     "output_type": "stream",
     "text": [
      " COLUMNAS SP: 131\n",
      " COLUMNAS SP: 131\n",
      " COLUMNAS SP: 131\n",
      " COLUMNAS SP: 131\n"
     ]
    }
   ],
   "source": [
    "print (f\" COLUMNAS SP: {len(df_sp['Precio_Cierre_SP500_USD'])}\")\n",
    "print (f\" COLUMNAS SP: {len(df_oro['P_oro'])}\")\n",
    "print (f\" COLUMNAS SP: {len(df_m2['m2'])}\")\n",
    "print (f\" COLUMNAS SP: {len(df_btc['P_btc'])}\")"
   ]
  },
  {
   "cell_type": "code",
   "execution_count": null,
   "id": "d740c471",
   "metadata": {},
   "outputs": [],
   "source": []
  },
  {
   "cell_type": "code",
   "execution_count": null,
   "id": "caefe96b",
   "metadata": {},
   "outputs": [],
   "source": []
  },
  {
   "cell_type": "code",
   "execution_count": 9,
   "id": "6cd5d3a4",
   "metadata": {},
   "outputs": [],
   "source": [
    "#unimos los 4 DF EN 1 SOLO:\n",
    "\n",
    "import pandas as pd\n",
    "\n",
    "# Supongamos que tienes tres DataFrames con índice de fechas\n",
    "# y quieres construir un nuevo DataFrame manualmente con columnas extraídas:\n",
    "\n",
    "df_unido = pd.DataFrame({\n",
    "    'Date': df_m2['Fecha'],\n",
    "    'SP500($)': df_sp['Precio_Cierre_SP500_USD'],\n",
    "    'Gold ($/oz)': df_oro['P_oro'],\n",
    "    'm2 (Billions $)': df_m2['m2'],\n",
    "    'Bitcoin price ($/unit)': df_btc['P_btc']\n",
    "    \n",
    "})\n",
    "\n",
    "#el indice de la suma es el indice del nuevo df creado:\n",
    "#df_unido.index = df_oro.index  # asumiendo que todos tienen el mismo índice\n",
    "\n",
    "#posible variante que no ha hecho falta\n",
    "#df_unido.index = pd.date_range(start='2014-09-30', end='2025-09-30', freq='M')\n",
    "#df_unido.head(5)\n",
    "\n"
   ]
  },
  {
   "cell_type": "code",
   "execution_count": 10,
   "id": "69300fe5",
   "metadata": {},
   "outputs": [
    {
     "data": {
      "text/html": [
       "<div>\n",
       "<style scoped>\n",
       "    .dataframe tbody tr th:only-of-type {\n",
       "        vertical-align: middle;\n",
       "    }\n",
       "\n",
       "    .dataframe tbody tr th {\n",
       "        vertical-align: top;\n",
       "    }\n",
       "\n",
       "    .dataframe thead th {\n",
       "        text-align: right;\n",
       "    }\n",
       "</style>\n",
       "<table border=\"1\" class=\"dataframe\">\n",
       "  <thead>\n",
       "    <tr style=\"text-align: right;\">\n",
       "      <th></th>\n",
       "      <th>Date</th>\n",
       "      <th>SP500($)</th>\n",
       "      <th>Gold ($/oz)</th>\n",
       "      <th>m2 (Billions $)</th>\n",
       "      <th>Bitcoin price ($/unit)</th>\n",
       "    </tr>\n",
       "  </thead>\n",
       "  <tbody>\n",
       "    <tr>\n",
       "      <th>0</th>\n",
       "      <td>2014-10-01</td>\n",
       "      <td>1972.290039</td>\n",
       "      <td>1210.500000</td>\n",
       "      <td>11577.5</td>\n",
       "      <td>386.944000</td>\n",
       "    </tr>\n",
       "    <tr>\n",
       "      <th>1</th>\n",
       "      <td>2014-11-01</td>\n",
       "      <td>2018.050049</td>\n",
       "      <td>1171.099976</td>\n",
       "      <td>11618.2</td>\n",
       "      <td>338.321014</td>\n",
       "    </tr>\n",
       "  </tbody>\n",
       "</table>\n",
       "</div>"
      ],
      "text/plain": [
       "        Date     SP500($)  Gold ($/oz)  m2 (Billions $)  \\\n",
       "0 2014-10-01  1972.290039  1210.500000          11577.5   \n",
       "1 2014-11-01  2018.050049  1171.099976          11618.2   \n",
       "\n",
       "   Bitcoin price ($/unit)  \n",
       "0              386.944000  \n",
       "1              338.321014  "
      ]
     },
     "execution_count": 10,
     "metadata": {},
     "output_type": "execute_result"
    }
   ],
   "source": [
    "df_unido.head(2)"
   ]
  },
  {
   "cell_type": "code",
   "execution_count": 11,
   "id": "03b493d3",
   "metadata": {},
   "outputs": [],
   "source": [
    "\n",
    "df_unido.to_excel('prueba_sabado.xlsx')"
   ]
  },
  {
   "cell_type": "code",
   "execution_count": 12,
   "id": "f45daf55",
   "metadata": {},
   "outputs": [
    {
     "data": {
      "text/plain": [
       "pandas._libs.tslibs.timestamps.Timestamp"
      ]
     },
     "execution_count": 12,
     "metadata": {},
     "output_type": "execute_result"
    }
   ],
   "source": [
    "type (df_unido['Date'][2])\n"
   ]
  },
  {
   "cell_type": "code",
   "execution_count": 13,
   "id": "302293d0",
   "metadata": {},
   "outputs": [],
   "source": [
    "df_unido4 = df_unido.iloc[:, -4:]"
   ]
  },
  {
   "cell_type": "code",
   "execution_count": 14,
   "id": "c888f56f",
   "metadata": {},
   "outputs": [
    {
     "data": {
      "text/html": [
       "<div>\n",
       "<style scoped>\n",
       "    .dataframe tbody tr th:only-of-type {\n",
       "        vertical-align: middle;\n",
       "    }\n",
       "\n",
       "    .dataframe tbody tr th {\n",
       "        vertical-align: top;\n",
       "    }\n",
       "\n",
       "    .dataframe thead th {\n",
       "        text-align: right;\n",
       "    }\n",
       "</style>\n",
       "<table border=\"1\" class=\"dataframe\">\n",
       "  <thead>\n",
       "    <tr style=\"text-align: right;\">\n",
       "      <th></th>\n",
       "      <th>SP500($)</th>\n",
       "      <th>Gold ($/oz)</th>\n",
       "      <th>m2 (Billions $)</th>\n",
       "      <th>Bitcoin price ($/unit)</th>\n",
       "    </tr>\n",
       "  </thead>\n",
       "  <tbody>\n",
       "    <tr>\n",
       "      <th>SP500($)</th>\n",
       "      <td>1.000000</td>\n",
       "      <td>0.934267</td>\n",
       "      <td>0.916349</td>\n",
       "      <td>0.939063</td>\n",
       "    </tr>\n",
       "    <tr>\n",
       "      <th>Gold ($/oz)</th>\n",
       "      <td>0.934267</td>\n",
       "      <td>1.000000</td>\n",
       "      <td>0.827583</td>\n",
       "      <td>0.927395</td>\n",
       "    </tr>\n",
       "    <tr>\n",
       "      <th>m2 (Billions $)</th>\n",
       "      <td>0.916349</td>\n",
       "      <td>0.827583</td>\n",
       "      <td>1.000000</td>\n",
       "      <td>0.790335</td>\n",
       "    </tr>\n",
       "    <tr>\n",
       "      <th>Bitcoin price ($/unit)</th>\n",
       "      <td>0.939063</td>\n",
       "      <td>0.927395</td>\n",
       "      <td>0.790335</td>\n",
       "      <td>1.000000</td>\n",
       "    </tr>\n",
       "  </tbody>\n",
       "</table>\n",
       "</div>"
      ],
      "text/plain": [
       "                        SP500($)  Gold ($/oz)  m2 (Billions $)  \\\n",
       "SP500($)                1.000000     0.934267         0.916349   \n",
       "Gold ($/oz)             0.934267     1.000000         0.827583   \n",
       "m2 (Billions $)         0.916349     0.827583         1.000000   \n",
       "Bitcoin price ($/unit)  0.939063     0.927395         0.790335   \n",
       "\n",
       "                        Bitcoin price ($/unit)  \n",
       "SP500($)                              0.939063  \n",
       "Gold ($/oz)                           0.927395  \n",
       "m2 (Billions $)                       0.790335  \n",
       "Bitcoin price ($/unit)                1.000000  "
      ]
     },
     "execution_count": 14,
     "metadata": {},
     "output_type": "execute_result"
    }
   ],
   "source": [
    "df_unido4.corr()"
   ]
  },
  {
   "cell_type": "code",
   "execution_count": 15,
   "id": "08ad7c96",
   "metadata": {},
   "outputs": [
    {
     "data": {
      "text/plain": [
       "<Axes: >"
      ]
     },
     "execution_count": 15,
     "metadata": {},
     "output_type": "execute_result"
    },
    {
     "data": {
      "image/png": "[encoded data removed]",
      "text/plain": [
       "<Figure size 1000x1000 with 2 Axes>"
      ]
     },
     "metadata": {},
     "output_type": "display_data"
    }
   ],
   "source": [
    "plt.figure(figsize=(10,10))\n",
    "sns.heatmap(df_unido4.corr(),\n",
    "            vmin=.8,\n",
    "            vmax=1,\n",
    "            cmap=sns.diverging_palette(145, 280, s=85, l=25, n=7),\n",
    "            square=True,\n",
    "            linewidths=.1,\n",
    "            annot=True)"
   ]
  },
  {
   "cell_type": "code",
   "execution_count": null,
   "id": "67b7dfc5",
   "metadata": {},
   "outputs": [],
   "source": []
  },
  {
   "cell_type": "code",
   "execution_count": null,
   "id": "6f8348d4",
   "metadata": {},
   "outputs": [],
   "source": []
  },
  {
   "cell_type": "code",
   "execution_count": 16,
   "id": "8329fdb0",
   "metadata": {},
   "outputs": [
    {
     "data": {
      "text/html": [
       "<div>\n",
       "<style scoped>\n",
       "    .dataframe tbody tr th:only-of-type {\n",
       "        vertical-align: middle;\n",
       "    }\n",
       "\n",
       "    .dataframe tbody tr th {\n",
       "        vertical-align: top;\n",
       "    }\n",
       "\n",
       "    .dataframe thead th {\n",
       "        text-align: right;\n",
       "    }\n",
       "</style>\n",
       "<table border=\"1\" class=\"dataframe\">\n",
       "  <thead>\n",
       "    <tr style=\"text-align: right;\">\n",
       "      <th></th>\n",
       "      <th>Fecha</th>\n",
       "      <th>Precio_Cierre_SP500_USD</th>\n",
       "    </tr>\n",
       "  </thead>\n",
       "  <tbody>\n",
       "    <tr>\n",
       "      <th>0</th>\n",
       "      <td>2014-09-30</td>\n",
       "      <td>1972.290039</td>\n",
       "    </tr>\n",
       "    <tr>\n",
       "      <th>1</th>\n",
       "      <td>2014-10-31</td>\n",
       "      <td>2018.050049</td>\n",
       "    </tr>\n",
       "    <tr>\n",
       "      <th>2</th>\n",
       "      <td>2014-11-30</td>\n",
       "      <td>2067.560059</td>\n",
       "    </tr>\n",
       "    <tr>\n",
       "      <th>3</th>\n",
       "      <td>2014-12-31</td>\n",
       "      <td>2058.899902</td>\n",
       "    </tr>\n",
       "    <tr>\n",
       "      <th>4</th>\n",
       "      <td>2015-01-31</td>\n",
       "      <td>1994.989990</td>\n",
       "    </tr>\n",
       "  </tbody>\n",
       "</table>\n",
       "</div>"
      ],
      "text/plain": [
       "       Fecha  Precio_Cierre_SP500_USD\n",
       "0 2014-09-30              1972.290039\n",
       "1 2014-10-31              2018.050049\n",
       "2 2014-11-30              2067.560059\n",
       "3 2014-12-31              2058.899902\n",
       "4 2015-01-31              1994.989990"
      ]
     },
     "execution_count": 16,
     "metadata": {},
     "output_type": "execute_result"
    }
   ],
   "source": [
    "#VEMOS EL ASPECTO GENERAL\n",
    "df_sp.head()\n",
    "#print(\"...\")\n",
    "#df_mensual.tail()"
   ]
  },
  {
   "cell_type": "code",
   "execution_count": 17,
   "id": "baec4268",
   "metadata": {},
   "outputs": [
    {
     "data": {
      "text/plain": [
       "np.float64(2018.050048828125)"
      ]
     },
     "execution_count": 17,
     "metadata": {},
     "output_type": "execute_result"
    }
   ],
   "source": [
    "#comprobamos el tipo de valor de la columna precio cierre\n",
    "df_sp['Precio_Cierre_SP500_USD'].iloc[1]"
   ]
  },
  {
   "cell_type": "code",
   "execution_count": 18,
   "id": "9453c021",
   "metadata": {},
   "outputs": [
    {
     "data": {
      "text/plain": [
       "np.float64(1920.030029296875)"
      ]
     },
     "execution_count": 18,
     "metadata": {},
     "output_type": "execute_result"
    }
   ],
   "source": [
    "#comprobamos el minimo de los valores. En el excel exportado visualizo valores minimos diferentes!\n",
    "df_sp['Precio_Cierre_SP500_USD'].min()"
   ]
  },
  {
   "cell_type": "code",
   "execution_count": 19,
   "id": "110e0c20",
   "metadata": {},
   "outputs": [
    {
     "data": {
      "text/html": [
       "<div>\n",
       "<style scoped>\n",
       "    .dataframe tbody tr th:only-of-type {\n",
       "        vertical-align: middle;\n",
       "    }\n",
       "\n",
       "    .dataframe tbody tr th {\n",
       "        vertical-align: top;\n",
       "    }\n",
       "\n",
       "    .dataframe thead th {\n",
       "        text-align: right;\n",
       "    }\n",
       "</style>\n",
       "<table border=\"1\" class=\"dataframe\">\n",
       "  <thead>\n",
       "    <tr style=\"text-align: right;\">\n",
       "      <th></th>\n",
       "      <th>Fecha</th>\n",
       "      <th>Precio_Cierre_SP500_USD</th>\n",
       "    </tr>\n",
       "  </thead>\n",
       "  <tbody>\n",
       "    <tr>\n",
       "      <th>count</th>\n",
       "      <td>131</td>\n",
       "      <td>131.000000</td>\n",
       "    </tr>\n",
       "    <tr>\n",
       "      <th>mean</th>\n",
       "      <td>2020-02-29 13:11:27.022900736</td>\n",
       "      <td>3462.712901</td>\n",
       "    </tr>\n",
       "    <tr>\n",
       "      <th>min</th>\n",
       "      <td>2014-09-30 00:00:00</td>\n",
       "      <td>1920.030029</td>\n",
       "    </tr>\n",
       "    <tr>\n",
       "      <th>25%</th>\n",
       "      <td>2017-06-15 00:00:00</td>\n",
       "      <td>2417.604980</td>\n",
       "    </tr>\n",
       "    <tr>\n",
       "      <th>50%</th>\n",
       "      <td>2020-02-29 00:00:00</td>\n",
       "      <td>3044.310059</td>\n",
       "    </tr>\n",
       "    <tr>\n",
       "      <th>75%</th>\n",
       "      <td>2022-11-15 00:00:00</td>\n",
       "      <td>4302.520020</td>\n",
       "    </tr>\n",
       "    <tr>\n",
       "      <th>max</th>\n",
       "      <td>2025-07-31 00:00:00</td>\n",
       "      <td>6339.390137</td>\n",
       "    </tr>\n",
       "    <tr>\n",
       "      <th>std</th>\n",
       "      <td>NaN</td>\n",
       "      <td>1226.457088</td>\n",
       "    </tr>\n",
       "  </tbody>\n",
       "</table>\n",
       "</div>"
      ],
      "text/plain": [
       "                               Fecha  Precio_Cierre_SP500_USD\n",
       "count                            131               131.000000\n",
       "mean   2020-02-29 13:11:27.022900736              3462.712901\n",
       "min              2014-09-30 00:00:00              1920.030029\n",
       "25%              2017-06-15 00:00:00              2417.604980\n",
       "50%              2020-02-29 00:00:00              3044.310059\n",
       "75%              2022-11-15 00:00:00              4302.520020\n",
       "max              2025-07-31 00:00:00              6339.390137\n",
       "std                              NaN              1226.457088"
      ]
     },
     "execution_count": 19,
     "metadata": {},
     "output_type": "execute_result"
    }
   ],
   "source": [
    "df_sp.describe()"
   ]
  },
  {
   "cell_type": "code",
   "execution_count": 20,
   "id": "389c86bd",
   "metadata": {},
   "outputs": [
    {
     "data": {
      "image/png": "[encoded data removed]",
      "text/plain": [
       "<Figure size 1200x600 with 1 Axes>"
      ]
     },
     "metadata": {},
     "output_type": "display_data"
    }
   ],
   "source": [
    "#GRAFICAMOS SP500\n",
    "import matplotlib.pyplot as plt\n",
    "plt.style.use(\"bmh\")\n",
    "\n",
    "plt.figure(figsize=(12, 6))  # Tamaño de la figura\n",
    "\n",
    "# Graficar línea con personalización\n",
    "plt.plot(df_sp.index, \n",
    "         df_sp['Precio_Cierre_SP500_USD'], \n",
    "         linestyle='solid',      # Estilo de línea: 'solid', 'dashed', 'dotted', etc.\n",
    "         color='blue',           # Color de la línea\n",
    "         linewidth=0.5,            # Grosor de la línea\n",
    "         marker='o',             # Marcadores en puntos ('o', '^', 's', etc.)\n",
    "         markersize=1,           # Tamaño de los marcadores\n",
    "         markerfacecolor='red',  # Color interior de los marcadores\n",
    "         markeredgecolor='black')# Color del borde de los marcadores\n",
    "\n",
    "# Añadir título y etiquetas de ejes\n",
    "plt.title('Evolución del SP500 en USD (valores mensuales)')\n",
    "plt.xlabel('Fecha')\n",
    "plt.ylabel('Valor $')\n",
    "\n",
    "# Rotar etiquetas del eje X para mejor legibilidad\n",
    "plt.xticks(rotation=45)\n",
    "\n",
    "# Mostrar cuadrícula\n",
    "plt.grid(True)\n",
    "\n",
    "# Mostrar la gráfica\n",
    "plt.show()"
   ]
  },
  {
   "cell_type": "code",
   "execution_count": 21,
   "id": "82157958",
   "metadata": {},
   "outputs": [
    {
     "data": {
      "image/png": "[encoded data removed]",
      "text/plain": [
       "<Figure size 1200x600 with 1 Axes>"
      ]
     },
     "metadata": {},
     "output_type": "display_data"
    }
   ],
   "source": [
    "#OTRO TIPO DE GRÁFICA\n",
    "\n",
    "import seaborn as sns\n",
    "import matplotlib.pyplot as plt\n",
    "\n",
    "df_reset = df_sp.reset_index()\n",
    "\n",
    "sns.set_theme(style=\"darkgrid\")  # Tema y estilo de la gráfica\n",
    "\n",
    "plt.figure(figsize=(12,6))\n",
    "sns.lineplot(data=df_reset, x=df_reset.columns[0], y='Precio_Cierre_SP500_USD',\n",
    "             marker='o',markersize =3, linewidth=0.4)\n",
    "\n",
    "plt.title('Precio de Cierre del SP500 en USD')\n",
    "plt.xlabel('Fecha')\n",
    "plt.ylabel('Precio de Cierre')\n",
    "plt.xticks(rotation=45)\n",
    "plt.show()"
   ]
  },
  {
   "cell_type": "code",
   "execution_count": 22,
   "id": "7494ae79",
   "metadata": {},
   "outputs": [
    {
     "data": {
      "image/png": "[encoded data removed]",
      "text/plain": [
       "<Figure size 1200x600 with 1 Axes>"
      ]
     },
     "metadata": {},
     "output_type": "display_data"
    }
   ],
   "source": [
    "#GRAFICAMOS bitcoin*********************************************\n",
    "import matplotlib.pyplot as plt\n",
    "plt.style.use(\"bmh\")\n",
    "\n",
    "plt.figure(figsize=(12, 6))  # Tamaño de la figura\n",
    "\n",
    "# Graficar línea con personalización\n",
    "plt.plot(df_btc['Fecha'], \n",
    "         df_btc['P_btc'], \n",
    "         linestyle='solid',      # Estilo de línea: 'solid', 'dashed', 'dotted', etc.\n",
    "         color='green',           # Color de la línea\n",
    "         linewidth=0.5,            # Grosor de la línea\n",
    "         marker='o',             # Marcadores en puntos ('o', '^', 's', etc.)\n",
    "         markersize=1,           # Tamaño de los marcadores\n",
    "         markerfacecolor='green',  # Color interior de los marcadores\n",
    "         markeredgecolor='green')# Color del borde de los marcadores\n",
    "\n",
    "# Añadir título y etiquetas de ejes\n",
    "plt.title('Evolución del bitcoin en USD')\n",
    "plt.xlabel('Fecha')\n",
    "plt.ylabel('Valor $')\n",
    "\n",
    "# Rotar etiquetas del eje X para mejor legibilidad\n",
    "plt.xticks(rotation=45)\n",
    "\n",
    "# Mostrar cuadrícula\n",
    "plt.grid(True)\n",
    "\n",
    "# Mostrar la gráfica\n",
    "plt.show()"
   ]
  },
  {
   "cell_type": "code",
   "execution_count": 23,
   "id": "d6da9db3",
   "metadata": {},
   "outputs": [
    {
     "data": {
      "text/plain": [
       "126   2025-04-01\n",
       "127   2025-05-01\n",
       "128   2025-06-01\n",
       "129   2025-07-01\n",
       "130   2025-08-01\n",
       "Name: Fecha, dtype: datetime64[ns]"
      ]
     },
     "execution_count": 23,
     "metadata": {},
     "output_type": "execute_result"
    }
   ],
   "source": [
    "df_m2['Fecha'].tail()"
   ]
  },
  {
   "cell_type": "code",
   "execution_count": 51,
   "id": "597669f4",
   "metadata": {},
   "outputs": [
    {
     "data": {
      "image/png": "[encoded data removed]",
      "text/plain": [
       "<Figure size 1200x600 with 1 Axes>"
      ]
     },
     "metadata": {},
     "output_type": "display_data"
    }
   ],
   "source": [
    "#GRAFICAMOS todos los DF\n",
    "import matplotlib.pyplot as plt\n",
    "plt.style.use(\"bmh\")\n",
    "\n",
    "plt.figure(figsize=(12, 6))  # Tamaño de la figura\n",
    "x = df_m2['Fecha']\n",
    "y1 = df_m2['m2']\n",
    "y2 = df_sp['Precio_Cierre_SP500_USD']\n",
    "y3 = df_oro['P_oro']\n",
    "y4 = df_btc['P_btc']\n",
    "\n",
    "y1_inicio = y1.iloc[0] if hasattr(y1, 'iloc') else y1[0]\n",
    "y2_inicio = y2.iloc[0] if hasattr(y2, 'iloc') else y2[0]\n",
    "y3_inicio = y3.iloc[0] if hasattr(y3, 'iloc') else y3[0]\n",
    "y4_inicio = y4.iloc[0] if hasattr(y4, 'iloc') else y4[0]\n",
    "\n",
    "# Normaliza restando el valor inicial\n",
    "y1_norm = y1 - y1_inicio\n",
    "y2_norm = y2 - y2_inicio\n",
    "y3_norm = y3 - y3_inicio\n",
    "y4_norm = y4 - y4_inicio\n",
    "\n",
    "# Graficar línea con personalización\n",
    "plt.plot(x, (y1_norm/10), label='M2 EEUU/10', color='black', linestyle='solid', linewidth =0.5, marker = 'o', markersize =1, markerfacecolor ='black', markeredgecolor = 'black')\n",
    "plt.plot(x, (y2_norm), label='S&P 500', color='red', linestyle='solid', linewidth =0.5, marker = 'o', markersize =1, markerfacecolor ='red', markeredgecolor = 'red')\n",
    "plt.plot(x, (y3_norm), label='Oro', color='orange', linestyle='solid', linewidth =0.5, marker = 'o', markersize =1, markerfacecolor ='orange', markeredgecolor = 'orange')\n",
    "plt.plot(x, (y4_norm/10), label='Bitcoin/10', color='green', linestyle='solid', linewidth =0.5, marker = 'o', markersize =1, markerfacecolor ='green', markeredgecolor = 'green')\n",
    "\n",
    "plt.legend(loc='upper left', fontsize=10)\n",
    "\n",
    "'''\n",
    "         linestyle='solid',      # Estilo de línea: 'solid', 'dashed', 'dotted', etc.\n",
    "         color='blue',           # Color de la línea\n",
    "         linewidth=0.5,            # Grosor de la línea\n",
    "         marker='o',             # Marcadores en puntos ('o', '^', 's', etc.)\n",
    "         markersize=1,           # Tamaño de los marcadores\n",
    "         markerfacecolor='red',  # Color interior de los marcadores\n",
    "         markeredgecolor='black')# Color del borde de los marcadores\n",
    "\n",
    "\n",
    "'''\n",
    "\n",
    "# Añadir título y etiquetas de ejes\n",
    "plt.title('TODOS LOS VALORES')\n",
    "plt.xlabel('Fecha')\n",
    "plt.ylabel('Valor $')\n",
    "\n",
    "\n",
    "# Rotar etiquetas del eje X para mejor legibilidad\n",
    "#plt.xticks(rotation=45)\n",
    "\n",
    "# Mostrar cuadrícula\n",
    "plt.grid(True)\n",
    "\n",
    "# Mostrar la gráfica\n",
    "plt.show()"
   ]
  },
  {
   "cell_type": "code",
   "execution_count": null,
   "id": "97074a5f",
   "metadata": {},
   "outputs": [
    {
     "data": {
      "application/vnd.plotly.v1+json": {
       "config": {
        "plotlyServerURL": "https://plot.ly"
       },
       "data": [
        {
         "name": "Serie 1",
         "type": "scatter",
         "x": [
          "2014-10-01T00:00:00.000000000",
          "2014-11-01T00:00:00.000000000",
          "2014-12-01T00:00:00.000000000",
          "2015-01-01T00:00:00.000000000",
          "2015-02-01T00:00:00.000000000",
          "2015-03-01T00:00:00.000000000",
          "2015-04-01T00:00:00.000000000",
          "2015-05-01T00:00:00.000000000",
          "2015-06-01T00:00:00.000000000",
          "2015-07-01T00:00:00.000000000",
          "2015-08-01T00:00:00.000000000",
          "2015-09-01T00:00:00.000000000",
          "2015-10-01T00:00:00.000000000",
          "2015-11-01T00:00:00.000000000",
          "2015-12-01T00:00:00.000000000",
          "2016-01-01T00:00:00.000000000",
          "2016-02-01T00:00:00.000000000",
          "2016-03-01T00:00:00.000000000",
          "2016-04-01T00:00:00.000000000",
          "2016-05-01T00:00:00.000000000",
          "2016-06-01T00:00:00.000000000",
          "2016-07-01T00:00:00.000000000",
          "2016-08-01T00:00:00.000000000",
          "2016-09-01T00:00:00.000000000",
          "2016-10-01T00:00:00.000000000",
          "2016-11-01T00:00:00.000000000",
          "2016-12-01T00:00:00.000000000",
          "2017-01-01T00:00:00.000000000",
          "2017-02-01T00:00:00.000000000",
          "2017-03-01T00:00:00.000000000",
          "2017-04-01T00:00:00.000000000",
          "2017-05-01T00:00:00.000000000",
          "2017-06-01T00:00:00.000000000",
          "2017-07-01T00:00:00.000000000",
          "2017-08-01T00:00:00.000000000",
          "2017-09-01T00:00:00.000000000",
          "2017-10-01T00:00:00.000000000",
          "2017-11-01T00:00:00.000000000",
          "2017-12-01T00:00:00.000000000",
          "2018-01-01T00:00:00.000000000",
          "2018-02-01T00:00:00.000000000",
          "2018-03-01T00:00:00.000000000",
          "2018-04-01T00:00:00.000000000",
          "2018-05-01T00:00:00.000000000",
          "2018-06-01T00:00:00.000000000",
          "2018-07-01T00:00:00.000000000",
          "2018-08-01T00:00:00.000000000",
          "2018-09-01T00:00:00.000000000",
          "2018-10-01T00:00:00.000000000",
          "2018-11-01T00:00:00.000000000",
          "2018-12-01T00:00:00.000000000",
          "2019-01-01T00:00:00.000000000",
          "2019-02-01T00:00:00.000000000",
          "2019-03-01T00:00:00.000000000",
          "2019-04-01T00:00:00.000000000",
          "2019-05-01T00:00:00.000000000",
          "2019-06-01T00:00:00.000000000",
          "2019-07-01T00:00:00.000000000",
          "2019-08-01T00:00:00.000000000",
          "2019-09-01T00:00:00.000000000",
          "2019-10-01T00:00:00.000000000",
          "2019-11-01T00:00:00.000000000",
          "2019-12-01T00:00:00.000000000",
          "2020-01-01T00:00:00.000000000",
          "2020-02-01T00:00:00.000000000",
          "2020-03-01T00:00:00.000000000",
          "2020-04-01T00:00:00.000000000",
          "2020-05-01T00:00:00.000000000",
          "2020-06-01T00:00:00.000000000",
          "2020-07-01T00:00:00.000000000",
          "2020-08-01T00:00:00.000000000",
          "2020-09-01T00:00:00.000000000",
          "2020-10-01T00:00:00.000000000",
          "2020-11-01T00:00:00.000000000",
          "2020-12-01T00:00:00.000000000",
          "2021-01-01T00:00:00.000000000",
          "2021-02-01T00:00:00.000000000",
          "2021-03-01T00:00:00.000000000",
          "2021-04-01T00:00:00.000000000",
          "2021-05-01T00:00:00.000000000",
          "2021-06-01T00:00:00.000000000",
          "2021-07-01T00:00:00.000000000",
          "2021-08-01T00:00:00.000000000",
          "2021-09-01T00:00:00.000000000",
          "2021-10-01T00:00:00.000000000",
          "2021-11-01T00:00:00.000000000",
          "2021-12-01T00:00:00.000000000",
          "2022-01-01T00:00:00.000000000",
          "2022-02-01T00:00:00.000000000",
          "2022-03-01T00:00:00.000000000",
          "2022-04-01T00:00:00.000000000",
          "2022-05-01T00:00:00.000000000",
          "2022-06-01T00:00:00.000000000",
          "2022-07-01T00:00:00.000000000",
          "2022-08-01T00:00:00.000000000",
          "2022-09-01T00:00:00.000000000",
          "2022-10-01T00:00:00.000000000",
          "2022-11-01T00:00:00.000000000",
          "2022-12-01T00:00:00.000000000",
          "2023-01-01T00:00:00.000000000",
          "2023-02-01T00:00:00.000000000",
          "2023-03-01T00:00:00.000000000",
          "2023-04-01T00:00:00.000000000",
          "2023-05-01T00:00:00.000000000",
          "2023-06-01T00:00:00.000000000",
          "2023-07-01T00:00:00.000000000",
          "2023-08-01T00:00:00.000000000",
          "2023-09-01T00:00:00.000000000",
          "2023-10-01T00:00:00.000000000",
          "2023-11-01T00:00:00.000000000",
          "2023-12-01T00:00:00.000000000",
          "2024-01-01T00:00:00.000000000",
          "2024-02-01T00:00:00.000000000",
          "2024-03-01T00:00:00.000000000",
          "2024-04-01T00:00:00.000000000",
          "2024-05-01T00:00:00.000000000",
          "2024-06-01T00:00:00.000000000",
          "2024-07-01T00:00:00.000000000",
          "2024-08-01T00:00:00.000000000",
          "2024-09-01T00:00:00.000000000",
          "2024-10-01T00:00:00.000000000",
          "2024-11-01T00:00:00.000000000",
          "2024-12-01T00:00:00.000000000",
          "2025-01-01T00:00:00.000000000",
          "2025-02-01T00:00:00.000000000",
          "2025-03-01T00:00:00.000000000",
          "2025-04-01T00:00:00.000000000",
          "2025-05-01T00:00:00.000000000",
          "2025-06-01T00:00:00.000000000",
          "2025-07-01T00:00:00.000000000",
          "2025-08-01T00:00:00.000000000"
         ],
         "y": {
          "bdata": "AAAAAAAAAAAAmpmZmVlEQICZmZmZGV9AgJmZmZlpakCgmZmZmYF0QEAzMzMzY3RAoJmZmZmBdkAAAAAAADh4QKCZmZmZwXpAQDMzMzN7fUCgmZmZmSGAQGBmZmZmCoJA0MzMzMykg0AAAAAAAICGQKCZmZmZuYhAAAAAAAAEjUCgmZmZmUWPQAAAAAAAbpBAAAAAAACqkUAAAAAAALaSQJiZmZmZp5NA0MzMzMyAlECYmZmZmdGVQNDMzMzMwpZAAAAAAADol0AAAAAAAA6ZQGhmZmZmwplA0MzMzMzsmkAwMzMzM/ebQNDMzMzM7JxA0MzMzMzMnUDQzMzMzJyeQAAAAAAA9J5AmJmZmZnXn0A0MzMzM2KgQAAAAAAAw6BAmJmZmZk5oUDMzMzMzHqhQJiZmZmZ8KFAaGZmZmYDokCYmZmZmUuiQAAAAAAAvaJAzMzMzMzgokA0MzMzM1CjQMzMzMzMyKNAaGZmZmYNpEDMzMzMzHCkQJiZmZmZt6RAzMzMzMzPpECYmZmZmfakQDQzMzMz6qVANDMzMzNppkBoZmZmZq+mQGhmZmZmCadAAAAAAABCp0DMzMzMzAWoQMzMzMzM86hAAAAAAACYqUBoZmZmZjqqQMzMzMzM+6pAmJmZmZkLrEDMzMzMzOasQAAAAAAAda1AmJmZmZn+rUAAAAAAAGOuQMzMzMxMQLFAzMzMzEw0tUBoZmZm5oO4QJiZmZmZo7lAAAAAAIBAukDMzMzMzIK6QJiZmZkZa7tAzMzMzMwFvECYmZmZmem8QDQzMzOzg71ANDMzMzNmvkA0MzMzM1O/QDQzMzPzGsBAmpmZmRnEwEDMzMzMjErBQDQzMzOzX8FAmpmZmVmtwUAAAAAAwAjCQJqZmZnZXMJAZmZmZmauwkBmZmZmpgXDQAAAAADAUsNAZmZmZuaMw0AAAAAAwL3DQGZmZmbmz8NAAAAAAEDew0CamZmZmcDDQDQzMzOzqMNAmpmZmRmow0A0MzMzs5bDQMzMzMzMa8NAAAAAAIA7w0DMzMzMTBrDQMzMzMzM1MJAZmZmZubNwkAAAAAAgMPCQJqZmZlZKcJAZmZmZibgwUCamZmZ2QPCQJqZmZmZ+sFAzMzMzEz1wUA0MzMzs+jBQAAAAACA28FANDMzM/PKwUBmZmZmps/BQDQzMzPz0cFAzMzMzMz1wUDMzMzMzCHCQMzMzMzMNcJAmpmZmZlFwkCamZmZGWbCQMzMzMwMiMJAzMzMzEyYwkBmZmZm5sPCQJqZmZlZ78JAzMzMzAwJw0AAAAAAgDvDQGZmZmYmRMNANDMzM7Nmw0CamZmZWYvDQDQzMzOzr8NAzMzMzMz5w0DMzMzMjCHEQMzMzMxMZsRAZmZmZiaVxEA0MzMz87zEQA==",
          "dtype": "f8"
         }
        },
        {
         "name": "Serie 2",
         "type": "scatter",
         "x": [
          "2014-10-01T00:00:00.000000000",
          "2014-11-01T00:00:00.000000000",
          "2014-12-01T00:00:00.000000000",
          "2015-01-01T00:00:00.000000000",
          "2015-02-01T00:00:00.000000000",
          "2015-03-01T00:00:00.000000000",
          "2015-04-01T00:00:00.000000000",
          "2015-05-01T00:00:00.000000000",
          "2015-06-01T00:00:00.000000000",
          "2015-07-01T00:00:00.000000000",
          "2015-08-01T00:00:00.000000000",
          "2015-09-01T00:00:00.000000000",
          "2015-10-01T00:00:00.000000000",
          "2015-11-01T00:00:00.000000000",
          "2015-12-01T00:00:00.000000000",
          "2016-01-01T00:00:00.000000000",
          "2016-02-01T00:00:00.000000000",
          "2016-03-01T00:00:00.000000000",
          "2016-04-01T00:00:00.000000000",
          "2016-05-01T00:00:00.000000000",
          "2016-06-01T00:00:00.000000000",
          "2016-07-01T00:00:00.000000000",
          "2016-08-01T00:00:00.000000000",
          "2016-09-01T00:00:00.000000000",
          "2016-10-01T00:00:00.000000000",
          "2016-11-01T00:00:00.000000000",
          "2016-12-01T00:00:00.000000000",
          "2017-01-01T00:00:00.000000000",
          "2017-02-01T00:00:00.000000000",
          "2017-03-01T00:00:00.000000000",
          "2017-04-01T00:00:00.000000000",
          "2017-05-01T00:00:00.000000000",
          "2017-06-01T00:00:00.000000000",
          "2017-07-01T00:00:00.000000000",
          "2017-08-01T00:00:00.000000000",
          "2017-09-01T00:00:00.000000000",
          "2017-10-01T00:00:00.000000000",
          "2017-11-01T00:00:00.000000000",
          "2017-12-01T00:00:00.000000000",
          "2018-01-01T00:00:00.000000000",
          "2018-02-01T00:00:00.000000000",
          "2018-03-01T00:00:00.000000000",
          "2018-04-01T00:00:00.000000000",
          "2018-05-01T00:00:00.000000000",
          "2018-06-01T00:00:00.000000000",
          "2018-07-01T00:00:00.000000000",
          "2018-08-01T00:00:00.000000000",
          "2018-09-01T00:00:00.000000000",
          "2018-10-01T00:00:00.000000000",
          "2018-11-01T00:00:00.000000000",
          "2018-12-01T00:00:00.000000000",
          "2019-01-01T00:00:00.000000000",
          "2019-02-01T00:00:00.000000000",
          "2019-03-01T00:00:00.000000000",
          "2019-04-01T00:00:00.000000000",
          "2019-05-01T00:00:00.000000000",
          "2019-06-01T00:00:00.000000000",
          "2019-07-01T00:00:00.000000000",
          "2019-08-01T00:00:00.000000000",
          "2019-09-01T00:00:00.000000000",
          "2019-10-01T00:00:00.000000000",
          "2019-11-01T00:00:00.000000000",
          "2019-12-01T00:00:00.000000000",
          "2020-01-01T00:00:00.000000000",
          "2020-02-01T00:00:00.000000000",
          "2020-03-01T00:00:00.000000000",
          "2020-04-01T00:00:00.000000000",
          "2020-05-01T00:00:00.000000000",
          "2020-06-01T00:00:00.000000000",
          "2020-07-01T00:00:00.000000000",
          "2020-08-01T00:00:00.000000000",
          "2020-09-01T00:00:00.000000000",
          "2020-10-01T00:00:00.000000000",
          "2020-11-01T00:00:00.000000000",
          "2020-12-01T00:00:00.000000000",
          "2021-01-01T00:00:00.000000000",
          "2021-02-01T00:00:00.000000000",
          "2021-03-01T00:00:00.000000000",
          "2021-04-01T00:00:00.000000000",
          "2021-05-01T00:00:00.000000000",
          "2021-06-01T00:00:00.000000000",
          "2021-07-01T00:00:00.000000000",
          "2021-08-01T00:00:00.000000000",
          "2021-09-01T00:00:00.000000000",
          "2021-10-01T00:00:00.000000000",
          "2021-11-01T00:00:00.000000000",
          "2021-12-01T00:00:00.000000000",
          "2022-01-01T00:00:00.000000000",
          "2022-02-01T00:00:00.000000000",
          "2022-03-01T00:00:00.000000000",
          "2022-04-01T00:00:00.000000000",
          "2022-05-01T00:00:00.000000000",
          "2022-06-01T00:00:00.000000000",
          "2022-07-01T00:00:00.000000000",
          "2022-08-01T00:00:00.000000000",
          "2022-09-01T00:00:00.000000000",
          "2022-10-01T00:00:00.000000000",
          "2022-11-01T00:00:00.000000000",
          "2022-12-01T00:00:00.000000000",
          "2023-01-01T00:00:00.000000000",
          "2023-02-01T00:00:00.000000000",
          "2023-03-01T00:00:00.000000000",
          "2023-04-01T00:00:00.000000000",
          "2023-05-01T00:00:00.000000000",
          "2023-06-01T00:00:00.000000000",
          "2023-07-01T00:00:00.000000000",
          "2023-08-01T00:00:00.000000000",
          "2023-09-01T00:00:00.000000000",
          "2023-10-01T00:00:00.000000000",
          "2023-11-01T00:00:00.000000000",
          "2023-12-01T00:00:00.000000000",
          "2024-01-01T00:00:00.000000000",
          "2024-02-01T00:00:00.000000000",
          "2024-03-01T00:00:00.000000000",
          "2024-04-01T00:00:00.000000000",
          "2024-05-01T00:00:00.000000000",
          "2024-06-01T00:00:00.000000000",
          "2024-07-01T00:00:00.000000000",
          "2024-08-01T00:00:00.000000000",
          "2024-09-01T00:00:00.000000000",
          "2024-10-01T00:00:00.000000000",
          "2024-11-01T00:00:00.000000000",
          "2024-12-01T00:00:00.000000000",
          "2025-01-01T00:00:00.000000000",
          "2025-02-01T00:00:00.000000000",
          "2025-03-01T00:00:00.000000000",
          "2025-04-01T00:00:00.000000000",
          "2025-05-01T00:00:00.000000000",
          "2025-06-01T00:00:00.000000000",
          "2025-07-01T00:00:00.000000000",
          "2025-08-01T00:00:00.000000000"
         ],
         "y": {
          "bdata": "AAAAAAAAAAAAAAAASOFGQAAAAABI0VdAAAAAAAinVUAAAAAAMLM2QAAAAAC4hmBAAAAAAGTmV0AAAAAAFE5cQAAAAAAy42BAAAAAAHy0VkAAAAAAmnFgQAAAAAAAKLy/AAAAAEghSsAAAAAAfMRaQAAAAACsB1tAAAAAAJjpUUAAAAAAaAZAwAAAAACwB0TAAAAAAMzcVUAAAAAApEBXQAAAAAA8Kl9AAAAAAHykX0AAAAAA7ClpQAAAAAAe1WhAAAAAAFx/aEAAAAAAhDtjQAAAAACkUGxAAAAAAKSocEAAAAAASClzQAAAAACZdXhAAAAAAOFmeEAAAAAAj755QAAAAAApeHtAAAAAAOsxfEAAAAAAKSB/QAAAAADCNX9AAAAAgI8YgUAAAACAwteCQAAAAABSGoVAAAAAgI/qhUAAAAAAKZyKQAAAAABSLIdAAAAAAKTkhEAAAACAFB6FQAAAAADX54ZAAAAAAKRQh0AAAAAAAGCKQAAAAADXCY1AAAAAAIVtjUAAAACAmRuHQAAAAAAKn4hAAAAAAHu0gEAAAAAAe96GQAAAAICZYYlAAAAAAOHwikAAAAAAUmyOQAAAAAApXohAAAAAgMJLjkAAAAAAuICPQAAAAABc0Y1AAAAAgJljj0AAAACAFKWQQAAAAIDCQpJAAAAAwPWpk0AAAACA65STQAAAAIBwr45AAAAAgGYig0AAAACAHmGNQAAAAIAUwJBAAAAAAACgkUAAAAAAUkuUQAAAAIAU4JdAAAAAANe6lUAAAAAArkaUQAAAAABcxZlAAAAAwB7fm0AAAADAzDebQAAAAIBwu5xAAAAAQGZCn0AAAACAwkGhQAAAAMCjb6FAAAAAgGsqokAAAACA8O2iQAAAAMDH7KNAAAAAAIA+okAAAAAALpKkQAAAAIBrRaRAAAAAwMfTpUAAAAAAhd6jQAAAAMBMw6JAAAAAgD38o0AAAADAR9+gQAAAAEC436BAAAAAAFxUnEAAAAAAANygQAAAAADX+p5AAAAAAFI1mUAAAACAwq6dQAAAAOCjd6BAAAAAANcsnUAAAADAnnCgQAAAAIBwN59AAAAAQAqyoEAAAABAYSqhQAAAAIAUP6FAAAAAAC5co0AAAAAAV3GkQAAAAIC9zqNAAAAAAIUXokAAAAAABVuhQAAAAAAFR6RAAAAAgBTbpUAAAABAuHKmQAAAAMD1Z6hAAAAAwB6kqUAAAADAzO6nQAAAAIBw0qlAAAAAQGFAq0AAAAAABbyrQAAAAEA4uKxAAAAAQGGcrUAAAAAAUiqtQAAAAAAuuK9AAAAAAK6KrkAAAADAesivQAAAAIBrHK9AAAAAwB5vrEAAAABAihmsQAAAAMDMxq5AAAAAAKmIsEAAAACgGQ+xQA==",
          "dtype": "f8"
         }
        },
        {
         "name": "Serie 3",
         "type": "scatter",
         "x": [
          "2014-10-01T00:00:00.000000000",
          "2014-11-01T00:00:00.000000000",
          "2014-12-01T00:00:00.000000000",
          "2015-01-01T00:00:00.000000000",
          "2015-02-01T00:00:00.000000000",
          "2015-03-01T00:00:00.000000000",
          "2015-04-01T00:00:00.000000000",
          "2015-05-01T00:00:00.000000000",
          "2015-06-01T00:00:00.000000000",
          "2015-07-01T00:00:00.000000000",
          "2015-08-01T00:00:00.000000000",
          "2015-09-01T00:00:00.000000000",
          "2015-10-01T00:00:00.000000000",
          "2015-11-01T00:00:00.000000000",
          "2015-12-01T00:00:00.000000000",
          "2016-01-01T00:00:00.000000000",
          "2016-02-01T00:00:00.000000000",
          "2016-03-01T00:00:00.000000000",
          "2016-04-01T00:00:00.000000000",
          "2016-05-01T00:00:00.000000000",
          "2016-06-01T00:00:00.000000000",
          "2016-07-01T00:00:00.000000000",
          "2016-08-01T00:00:00.000000000",
          "2016-09-01T00:00:00.000000000",
          "2016-10-01T00:00:00.000000000",
          "2016-11-01T00:00:00.000000000",
          "2016-12-01T00:00:00.000000000",
          "2017-01-01T00:00:00.000000000",
          "2017-02-01T00:00:00.000000000",
          "2017-03-01T00:00:00.000000000",
          "2017-04-01T00:00:00.000000000",
          "2017-05-01T00:00:00.000000000",
          "2017-06-01T00:00:00.000000000",
          "2017-07-01T00:00:00.000000000",
          "2017-08-01T00:00:00.000000000",
          "2017-09-01T00:00:00.000000000",
          "2017-10-01T00:00:00.000000000",
          "2017-11-01T00:00:00.000000000",
          "2017-12-01T00:00:00.000000000",
          "2018-01-01T00:00:00.000000000",
          "2018-02-01T00:00:00.000000000",
          "2018-03-01T00:00:00.000000000",
          "2018-04-01T00:00:00.000000000",
          "2018-05-01T00:00:00.000000000",
          "2018-06-01T00:00:00.000000000",
          "2018-07-01T00:00:00.000000000",
          "2018-08-01T00:00:00.000000000",
          "2018-09-01T00:00:00.000000000",
          "2018-10-01T00:00:00.000000000",
          "2018-11-01T00:00:00.000000000",
          "2018-12-01T00:00:00.000000000",
          "2019-01-01T00:00:00.000000000",
          "2019-02-01T00:00:00.000000000",
          "2019-03-01T00:00:00.000000000",
          "2019-04-01T00:00:00.000000000",
          "2019-05-01T00:00:00.000000000",
          "2019-06-01T00:00:00.000000000",
          "2019-07-01T00:00:00.000000000",
          "2019-08-01T00:00:00.000000000",
          "2019-09-01T00:00:00.000000000",
          "2019-10-01T00:00:00.000000000",
          "2019-11-01T00:00:00.000000000",
          "2019-12-01T00:00:00.000000000",
          "2020-01-01T00:00:00.000000000",
          "2020-02-01T00:00:00.000000000",
          "2020-03-01T00:00:00.000000000",
          "2020-04-01T00:00:00.000000000",
          "2020-05-01T00:00:00.000000000",
          "2020-06-01T00:00:00.000000000",
          "2020-07-01T00:00:00.000000000",
          "2020-08-01T00:00:00.000000000",
          "2020-09-01T00:00:00.000000000",
          "2020-10-01T00:00:00.000000000",
          "2020-11-01T00:00:00.000000000",
          "2020-12-01T00:00:00.000000000",
          "2021-01-01T00:00:00.000000000",
          "2021-02-01T00:00:00.000000000",
          "2021-03-01T00:00:00.000000000",
          "2021-04-01T00:00:00.000000000",
          "2021-05-01T00:00:00.000000000",
          "2021-06-01T00:00:00.000000000",
          "2021-07-01T00:00:00.000000000",
          "2021-08-01T00:00:00.000000000",
          "2021-09-01T00:00:00.000000000",
          "2021-10-01T00:00:00.000000000",
          "2021-11-01T00:00:00.000000000",
          "2021-12-01T00:00:00.000000000",
          "2022-01-01T00:00:00.000000000",
          "2022-02-01T00:00:00.000000000",
          "2022-03-01T00:00:00.000000000",
          "2022-04-01T00:00:00.000000000",
          "2022-05-01T00:00:00.000000000",
          "2022-06-01T00:00:00.000000000",
          "2022-07-01T00:00:00.000000000",
          "2022-08-01T00:00:00.000000000",
          "2022-09-01T00:00:00.000000000",
          "2022-10-01T00:00:00.000000000",
          "2022-11-01T00:00:00.000000000",
          "2022-12-01T00:00:00.000000000",
          "2023-01-01T00:00:00.000000000",
          "2023-02-01T00:00:00.000000000",
          "2023-03-01T00:00:00.000000000",
          "2023-04-01T00:00:00.000000000",
          "2023-05-01T00:00:00.000000000",
          "2023-06-01T00:00:00.000000000",
          "2023-07-01T00:00:00.000000000",
          "2023-08-01T00:00:00.000000000",
          "2023-09-01T00:00:00.000000000",
          "2023-10-01T00:00:00.000000000",
          "2023-11-01T00:00:00.000000000",
          "2023-12-01T00:00:00.000000000",
          "2024-01-01T00:00:00.000000000",
          "2024-02-01T00:00:00.000000000",
          "2024-03-01T00:00:00.000000000",
          "2024-04-01T00:00:00.000000000",
          "2024-05-01T00:00:00.000000000",
          "2024-06-01T00:00:00.000000000",
          "2024-07-01T00:00:00.000000000",
          "2024-08-01T00:00:00.000000000",
          "2024-09-01T00:00:00.000000000",
          "2024-10-01T00:00:00.000000000",
          "2024-11-01T00:00:00.000000000",
          "2024-12-01T00:00:00.000000000",
          "2025-01-01T00:00:00.000000000",
          "2025-02-01T00:00:00.000000000",
          "2025-03-01T00:00:00.000000000",
          "2025-04-01T00:00:00.000000000",
          "2025-05-01T00:00:00.000000000",
          "2025-06-01T00:00:00.000000000",
          "2025-07-01T00:00:00.000000000",
          "2025-08-01T00:00:00.000000000"
         ],
         "y": {
          "bdata": "AAAAAAAAAAAAAAAANLNDwAAAAABopkHAAAAAAJiZOsAAAAAAAABRQAAAAADAzABAAAAAAGhmO8AAAAAAmBk8wAAAAACYGTXAAAAAAACAQ8AAAAAAZuZcwAAAAACauVPAAAAAAADAV8AAAAAAAEBRwAAAAABmFmLAAAAAAGbGYsAAAAAAZoZXwAAAAABoZjdAAAAAADCzN0AAAAAAzKxTQAAAAABAMxFAAAAAAJr5WkAAAAAAAFBhQAAAAACaGVhAAAAAADSzWUAAAAAAAIBOQAAAAACY2UPAAAAAAABATsAAAAAAgGb+vwAAAADMDEVAAAAAAGhmQkAAAAAAzMxLQAAAAAAAwE5AAAAAADAzPkAAAAAAzAxMQAAAAADMbFpAAAAAAADAUUAAAAAAAEBMQAAAAACYWU9AAAAAADTzV0AAAAAAABBgQAAAAAAAQFpAAAAAADQTXEAAAAAAzGxaQAAAAABmZlZAAAAAAGhmREAAAAAAYGYqQAAAAABgZiTAAAAAAAAAM8AAAAAAAM38PwAAAABgZiNAAAAAADTzUEAAAAAAzExbQAAAAAA0k1lAAAAAAACgVEAAAAAANBNSQAAAAAA001dAAAAAAGbmaEAAAAAAM/NqQAAAAICZSXNAAAAAAGbmb0AAAACAZs5yQAAAAAAz429AAAAAAABQc0AAAACAZkZ3QAAAAICZGXZAAAAAgGZOd0AAAAAAM5t9QAAAAEAzc4BAAAAAAAA0gkAAAACAZoKHQAAAAMDMqIdAAAAAAAAohUAAAABAM9eEQAAAAICZqYFAAAAAwMxUhUAAAACAZuaDQAAAAMDMLIBAAAAAAM10f0AAAACAZmaBQAAAAAAAoIVAAAAAgGaCgUAAAADAzNCCQAAAAAAA5IJAAAAAgGYGgUAAAAAAAOSBQAAAAMDMmIFAAAAAAABIg0AAAAAAAESCQAAAAEAzh4VAAAAAgJkVh0AAAACAZtaFQAAAAICZwYNAAAAAwMyMgkAAAABAM0OBQAAAAADNZH9AAAAAgGY+fEAAAACAZpZ6QAAAAAAAvIBAAAAAgJkJg0AAAAAAAHiGQAAAAEAzU4NAAAAAAAC0h0AAAADAzFyIQAAAAEAzi4dAAAAAwMw0hkAAAAAAAMCHQAAAAICZvYZAAAAAwMzsg0AAAACAmTWIQAAAAMDM3IlAAAAAADOfikAAAAAAMy+KQAAAAICZGYpAAAAAADN3j0AAAACAmeOQQAAAAICZYZFAAAAAwMx0kUAAAAAAAACTQAAAAEAzDZRAAAAAgGZGlkAAAABAM9+XQAAAAAAAmpZAAAAAwMwqlkAAAAAAAAiZQAAAAEAzaZlAAAAAQDPhnUAAAAAAAF2gQAAAAMDMPKBAAAAAwMxHoEAAAABgZkWgQA==",
          "dtype": "f8"
         }
        },
        {
         "name": "Serie 4",
         "type": "scatter",
         "x": [
          "2014-10-01T00:00:00.000000000",
          "2014-11-01T00:00:00.000000000",
          "2014-12-01T00:00:00.000000000",
          "2015-01-01T00:00:00.000000000",
          "2015-02-01T00:00:00.000000000",
          "2015-03-01T00:00:00.000000000",
          "2015-04-01T00:00:00.000000000",
          "2015-05-01T00:00:00.000000000",
          "2015-06-01T00:00:00.000000000",
          "2015-07-01T00:00:00.000000000",
          "2015-08-01T00:00:00.000000000",
          "2015-09-01T00:00:00.000000000",
          "2015-10-01T00:00:00.000000000",
          "2015-11-01T00:00:00.000000000",
          "2015-12-01T00:00:00.000000000",
          "2016-01-01T00:00:00.000000000",
          "2016-02-01T00:00:00.000000000",
          "2016-03-01T00:00:00.000000000",
          "2016-04-01T00:00:00.000000000",
          "2016-05-01T00:00:00.000000000",
          "2016-06-01T00:00:00.000000000",
          "2016-07-01T00:00:00.000000000",
          "2016-08-01T00:00:00.000000000",
          "2016-09-01T00:00:00.000000000",
          "2016-10-01T00:00:00.000000000",
          "2016-11-01T00:00:00.000000000",
          "2016-12-01T00:00:00.000000000",
          "2017-01-01T00:00:00.000000000",
          "2017-02-01T00:00:00.000000000",
          "2017-03-01T00:00:00.000000000",
          "2017-04-01T00:00:00.000000000",
          "2017-05-01T00:00:00.000000000",
          "2017-06-01T00:00:00.000000000",
          "2017-07-01T00:00:00.000000000",
          "2017-08-01T00:00:00.000000000",
          "2017-09-01T00:00:00.000000000",
          "2017-10-01T00:00:00.000000000",
          "2017-11-01T00:00:00.000000000",
          "2017-12-01T00:00:00.000000000",
          "2018-01-01T00:00:00.000000000",
          "2018-02-01T00:00:00.000000000",
          "2018-03-01T00:00:00.000000000",
          "2018-04-01T00:00:00.000000000",
          "2018-05-01T00:00:00.000000000",
          "2018-06-01T00:00:00.000000000",
          "2018-07-01T00:00:00.000000000",
          "2018-08-01T00:00:00.000000000",
          "2018-09-01T00:00:00.000000000",
          "2018-10-01T00:00:00.000000000",
          "2018-11-01T00:00:00.000000000",
          "2018-12-01T00:00:00.000000000",
          "2019-01-01T00:00:00.000000000",
          "2019-02-01T00:00:00.000000000",
          "2019-03-01T00:00:00.000000000",
          "2019-04-01T00:00:00.000000000",
          "2019-05-01T00:00:00.000000000",
          "2019-06-01T00:00:00.000000000",
          "2019-07-01T00:00:00.000000000",
          "2019-08-01T00:00:00.000000000",
          "2019-09-01T00:00:00.000000000",
          "2019-10-01T00:00:00.000000000",
          "2019-11-01T00:00:00.000000000",
          "2019-12-01T00:00:00.000000000",
          "2020-01-01T00:00:00.000000000",
          "2020-02-01T00:00:00.000000000",
          "2020-03-01T00:00:00.000000000",
          "2020-04-01T00:00:00.000000000",
          "2020-05-01T00:00:00.000000000",
          "2020-06-01T00:00:00.000000000",
          "2020-07-01T00:00:00.000000000",
          "2020-08-01T00:00:00.000000000",
          "2020-09-01T00:00:00.000000000",
          "2020-10-01T00:00:00.000000000",
          "2020-11-01T00:00:00.000000000",
          "2020-12-01T00:00:00.000000000",
          "2021-01-01T00:00:00.000000000",
          "2021-02-01T00:00:00.000000000",
          "2021-03-01T00:00:00.000000000",
          "2021-04-01T00:00:00.000000000",
          "2021-05-01T00:00:00.000000000",
          "2021-06-01T00:00:00.000000000",
          "2021-07-01T00:00:00.000000000",
          "2021-08-01T00:00:00.000000000",
          "2021-09-01T00:00:00.000000000",
          "2021-10-01T00:00:00.000000000",
          "2021-11-01T00:00:00.000000000",
          "2021-12-01T00:00:00.000000000",
          "2022-01-01T00:00:00.000000000",
          "2022-02-01T00:00:00.000000000",
          "2022-03-01T00:00:00.000000000",
          "2022-04-01T00:00:00.000000000",
          "2022-05-01T00:00:00.000000000",
          "2022-06-01T00:00:00.000000000",
          "2022-07-01T00:00:00.000000000",
          "2022-08-01T00:00:00.000000000",
          "2022-09-01T00:00:00.000000000",
          "2022-10-01T00:00:00.000000000",
          "2022-11-01T00:00:00.000000000",
          "2022-12-01T00:00:00.000000000",
          "2023-01-01T00:00:00.000000000",
          "2023-02-01T00:00:00.000000000",
          "2023-03-01T00:00:00.000000000",
          "2023-04-01T00:00:00.000000000",
          "2023-05-01T00:00:00.000000000",
          "2023-06-01T00:00:00.000000000",
          "2023-07-01T00:00:00.000000000",
          "2023-08-01T00:00:00.000000000",
          "2023-09-01T00:00:00.000000000",
          "2023-10-01T00:00:00.000000000",
          "2023-11-01T00:00:00.000000000",
          "2023-12-01T00:00:00.000000000",
          "2024-01-01T00:00:00.000000000",
          "2024-02-01T00:00:00.000000000",
          "2024-03-01T00:00:00.000000000",
          "2024-04-01T00:00:00.000000000",
          "2024-05-01T00:00:00.000000000",
          "2024-06-01T00:00:00.000000000",
          "2024-07-01T00:00:00.000000000",
          "2024-08-01T00:00:00.000000000",
          "2024-09-01T00:00:00.000000000",
          "2024-10-01T00:00:00.000000000",
          "2024-11-01T00:00:00.000000000",
          "2024-12-01T00:00:00.000000000",
          "2025-01-01T00:00:00.000000000",
          "2025-02-01T00:00:00.000000000",
          "2025-03-01T00:00:00.000000000",
          "2025-04-01T00:00:00.000000000",
          "2025-05-01T00:00:00.000000000",
          "2025-06-01T00:00:00.000000000",
          "2025-07-01T00:00:00.000000000",
          "2025-08-01T00:00:00.000000000"
         ],
         "y": {
          "bdata": "AAAAAAAAAAAAAAAAvk9IwAAAAABEyyHAAAAAgBCwUMAAAAAgXC9lwAAAAMDKlWDAAAAAQArXYcAAAABgkdliwAAAAMAgmGPAAAAAAM/3XsAAAAAA0ZJZwAAAAIBqnGPAAAAAwEncYsAAAAAAyzFSwAAAAAD4PiPAAAAAAL7PRUAAAAAAUC0ywAAAAABiYElAAAAAAPbIPUAAAAAA369OQAAAAMAkDmJAAAAAoEnmcUAAAADAlbdtQAAAAEDlkGdAAAAAwE/Za0AAAACgcqBzQAAAAKDza3ZAAAAAUGQGgkAAAAAQrDuCQAAAADA1yIhAAAAAsMRmhUAAAABwkQeOQAAAABjdrZ1AAAAAzMpboEAAAADMynCjQAAAADZy3LBAAAAALIjfrkAAAAC2dMG3QAAAAOtTO8NAAAAAa7rkykAAAADrEzXDQAAAAGt6jcNAAAAA9pW6uUAAAACLzUrBQAAAANY5w7tAAAAAVg6Bt0AAAAD2fuG8QAAAANai+rlAAAAAtp1euEAAAAB2qiq3QAAAACymXKxAAAAATIM3qkAAAACMsv2nQAAAAMyuF6tAAAAArOsMrUAAAABWyGOzQAAAANaO+79AAAAACxtfxEAAAACLV/HCQAAAACvcDcJAAAAAluzivkAAAAALUjbBQAAAAJavDrxAAAAAtqeWukAAAADryoHBQAAAAEtICsBAAAAAVrOjt0AAAAALzifAQAAAAKsOucFAAAAAS4YXwUAAAADrQlzFQAAAACvwDsZAAAAAC8ZOxEAAAACLBinKQAAAgBW5ydJAAACAtbHx20AAAICV2vXfQAAAwGra2eVAAADAanyU7EAAAMBqZwLsQAAAwCo9CuJAAADAirzr4EAAAMAK6CLkQAAAwMp31+ZAAADAan4x5UAAAMBqgMDtQAAAwGpPpetAAADACvBr5kAAAMDKBZriQAAAwErJ5uRAAADAavcL5kAAAMDK/TniQAAAgHVXq95AAACAFXLx0kAAAID1fGnWQAAAgHW0M9NAAACAFTaZ0kAAAIAVNaPTQAAAgNVnY9BAAAAAq0aQz0AAAIC1FTjWQAAAgDUaOtZAAACAleJu20AAAIA1dzTcQAAAgLUtNNpAAACAtZNi3UAAAIC1yircQAAAgNUh8thAAACANT712UAAAMDKGr3gQAAAwKq5OeJAAADAysdy5EAAAMAqdZrkQAAAwApuse1AAABgRStS8UAAAMAqPWvtQAAAYIUHYvBAAADAKmtq7kAAAMDKCV3vQAAAwIremuxAAADAytG77kAAAGDlQwzxQAAAYMXhc/dAAABgJSS39kAAAGBFIej4QAAAYAUhgfRAAABghR8P9EAAAGDlxef2QAAAYGWyc/lAAABgRcYP+kAAAGAltCr8QA==",
          "dtype": "f8"
         }
        }
       ],
       "layout": {
        "template": {
         "data": {
          "bar": [
           {
            "error_x": {
             "color": "#2a3f5f"
            },
            "error_y": {
             "color": "#2a3f5f"
            },
            "marker": {
             "line": {
              "color": "#E5ECF6",
              "width": 0.5
             },
             "pattern": {
              "fillmode": "overlay",
              "size": 10,
              "solidity": 0.2
             }
            },
            "type": "bar"
           }
          ],
          "barpolar": [
           {
            "marker": {
             "line": {
              "color": "#E5ECF6",
              "width": 0.5
             },
             "pattern": {
              "fillmode": "overlay",
              "size": 10,
              "solidity": 0.2
             }
            },
            "type": "barpolar"
           }
          ],
          "carpet": [
           {
            "aaxis": {
             "endlinecolor": "#2a3f5f",
             "gridcolor": "white",
             "linecolor": "white",
             "minorgridcolor": "white",
             "startlinecolor": "#2a3f5f"
            },
            "baxis": {
             "endlinecolor": "#2a3f5f",
             "gridcolor": "white",
             "linecolor": "white",
             "minorgridcolor": "white",
             "startlinecolor": "#2a3f5f"
            },
            "type": "carpet"
           }
          ],
          "choropleth": [
           {
            "colorbar": {
             "outlinewidth": 0,
             "ticks": ""
            },
            "type": "choropleth"
           }
          ],
          "contour": [
           {
            "colorbar": {
             "outlinewidth": 0,
             "ticks": ""
            },
            "colorscale": [
             [
              0,
              "#0d0887"
             ],
             [
              0.1111111111111111,
              "#46039f"
             ],
             [
              0.2222222222222222,
              "#7201a8"
             ],
             [
              0.3333333333333333,
              "#9c179e"
             ],
             [
              0.4444444444444444,
              "#bd3786"
             ],
             [
              0.5555555555555556,
              "#d8576b"
             ],
             [
              0.6666666666666666,
              "#ed7953"
             ],
             [
              0.7777777777777778,
              "#fb9f3a"
             ],
             [
              0.8888888888888888,
              "#fdca26"
             ],
             [
              1,
              "#f0f921"
             ]
            ],
            "type": "contour"
           }
          ],
          "contourcarpet": [
           {
            "colorbar": {
             "outlinewidth": 0,
             "ticks": ""
            },
            "type": "contourcarpet"
           }
          ],
          "heatmap": [
           {
            "colorbar": {
             "outlinewidth": 0,
             "ticks": ""
            },
            "colorscale": [
             [
              0,
              "#0d0887"
             ],
             [
              0.1111111111111111,
              "#46039f"
             ],
             [
              0.2222222222222222,
              "#7201a8"
             ],
             [
              0.3333333333333333,
              "#9c179e"
             ],
             [
              0.4444444444444444,
              "#bd3786"
             ],
             [
              0.5555555555555556,
              "#d8576b"
             ],
             [
              0.6666666666666666,
              "#ed7953"
             ],
             [
              0.7777777777777778,
              "#fb9f3a"
             ],
             [
              0.8888888888888888,
              "#fdca26"
             ],
             [
              1,
              "#f0f921"
             ]
            ],
            "type": "heatmap"
           }
          ],
          "histogram": [
           {
            "marker": {
             "pattern": {
              "fillmode": "overlay",
              "size": 10,
              "solidity": 0.2
             }
            },
            "type": "histogram"
           }
          ],
          "histogram2d": [
           {
            "colorbar": {
             "outlinewidth": 0,
             "ticks": ""
            },
            "colorscale": [
             [
              0,
              "#0d0887"
             ],
             [
              0.1111111111111111,
              "#46039f"
             ],
             [
              0.2222222222222222,
              "#7201a8"
             ],
             [
              0.3333333333333333,
              "#9c179e"
             ],
             [
              0.4444444444444444,
              "#bd3786"
             ],
             [
              0.5555555555555556,
              "#d8576b"
             ],
             [
              0.6666666666666666,
              "#ed7953"
             ],
             [
              0.7777777777777778,
              "#fb9f3a"
             ],
             [
              0.8888888888888888,
              "#fdca26"
             ],
             [
              1,
              "#f0f921"
             ]
            ],
            "type": "histogram2d"
           }
          ],
          "histogram2dcontour": [
           {
            "colorbar": {
             "outlinewidth": 0,
             "ticks": ""
            },
            "colorscale": [
             [
              0,
              "#0d0887"
             ],
             [
              0.1111111111111111,
              "#46039f"
             ],
             [
              0.2222222222222222,
              "#7201a8"
             ],
             [
              0.3333333333333333,
              "#9c179e"
             ],
             [
              0.4444444444444444,
              "#bd3786"
             ],
             [
              0.5555555555555556,
              "#d8576b"
             ],
             [
              0.6666666666666666,
              "#ed7953"
             ],
             [
              0.7777777777777778,
              "#fb9f3a"
             ],
             [
              0.8888888888888888,
              "#fdca26"
             ],
             [
              1,
              "#f0f921"
             ]
            ],
            "type": "histogram2dcontour"
           }
          ],
          "mesh3d": [
           {
            "colorbar": {
             "outlinewidth": 0,
             "ticks": ""
            },
            "type": "mesh3d"
           }
          ],
          "parcoords": [
           {
            "line": {
             "colorbar": {
              "outlinewidth": 0,
              "ticks": ""
             }
            },
            "type": "parcoords"
           }
          ],
          "pie": [
           {
            "automargin": true,
            "type": "pie"
           }
          ],
          "scatter": [
           {
            "fillpattern": {
             "fillmode": "overlay",
             "size": 10,
             "solidity": 0.2
            },
            "type": "scatter"
           }
          ],
          "scatter3d": [
           {
            "line": {
             "colorbar": {
              "outlinewidth": 0,
              "ticks": ""
             }
            },
            "marker": {
             "colorbar": {
              "outlinewidth": 0,
              "ticks": ""
             }
            },
            "type": "scatter3d"
           }
          ],
          "scattercarpet": [
           {
            "marker": {
             "colorbar": {
              "outlinewidth": 0,
              "ticks": ""
             }
            },
            "type": "scattercarpet"
           }
          ],
          "scattergeo": [
           {
            "marker": {
             "colorbar": {
              "outlinewidth": 0,
              "ticks": ""
             }
            },
            "type": "scattergeo"
           }
          ],
          "scattergl": [
           {
            "marker": {
             "colorbar": {
              "outlinewidth": 0,
              "ticks": ""
             }
            },
            "type": "scattergl"
           }
          ],
          "scattermap": [
           {
            "marker": {
             "colorbar": {
              "outlinewidth": 0,
              "ticks": ""
             }
            },
            "type": "scattermap"
           }
          ],
          "scattermapbox": [
           {
            "marker": {
             "colorbar": {
              "outlinewidth": 0,
              "ticks": ""
             }
            },
            "type": "scattermapbox"
           }
          ],
          "scatterpolar": [
           {
            "marker": {
             "colorbar": {
              "outlinewidth": 0,
              "ticks": ""
             }
            },
            "type": "scatterpolar"
           }
          ],
          "scatterpolargl": [
           {
            "marker": {
             "colorbar": {
              "outlinewidth": 0,
              "ticks": ""
             }
            },
            "type": "scatterpolargl"
           }
          ],
          "scatterternary": [
           {
            "marker": {
             "colorbar": {
              "outlinewidth": 0,
              "ticks": ""
             }
            },
            "type": "scatterternary"
           }
          ],
          "surface": [
           {
            "colorbar": {
             "outlinewidth": 0,
             "ticks": ""
            },
            "colorscale": [
             [
              0,
              "#0d0887"
             ],
             [
              0.1111111111111111,
              "#46039f"
             ],
             [
              0.2222222222222222,
              "#7201a8"
             ],
             [
              0.3333333333333333,
              "#9c179e"
             ],
             [
              0.4444444444444444,
              "#bd3786"
             ],
             [
              0.5555555555555556,
              "#d8576b"
             ],
             [
              0.6666666666666666,
              "#ed7953"
             ],
             [
              0.7777777777777778,
              "#fb9f3a"
             ],
             [
              0.8888888888888888,
              "#fdca26"
             ],
             [
              1,
              "#f0f921"
             ]
            ],
            "type": "surface"
           }
          ],
          "table": [
           {
            "cells": {
             "fill": {
              "color": "#EBF0F8"
             },
             "line": {
              "color": "white"
             }
            },
            "header": {
             "fill": {
              "color": "#C8D4E3"
             },
             "line": {
              "color": "white"
             }
            },
            "type": "table"
           }
          ]
         },
         "layout": {
          "annotationdefaults": {
           "arrowcolor": "#2a3f5f",
           "arrowhead": 0,
           "arrowwidth": 1
          },
          "autotypenumbers": "strict",
          "coloraxis": {
           "colorbar": {
            "outlinewidth": 0,
            "ticks": ""
           }
          },
          "colorscale": {
           "diverging": [
            [
             0,
             "#8e0152"
            ],
            [
             0.1,
             "#c51b7d"
            ],
            [
             0.2,
             "#de77ae"
            ],
            [
             0.3,
             "#f1b6da"
            ],
            [
             0.4,
             "#fde0ef"
            ],
            [
             0.5,
             "#f7f7f7"
            ],
            [
             0.6,
             "#e6f5d0"
            ],
            [
             0.7,
             "#b8e186"
            ],
            [
             0.8,
             "#7fbc41"
            ],
            [
             0.9,
             "#4d9221"
            ],
            [
             1,
             "#276419"
            ]
           ],
           "sequential": [
            [
             0,
             "#0d0887"
            ],
            [
             0.1111111111111111,
             "#46039f"
            ],
            [
             0.2222222222222222,
             "#7201a8"
            ],
            [
             0.3333333333333333,
             "#9c179e"
            ],
            [
             0.4444444444444444,
             "#bd3786"
            ],
            [
             0.5555555555555556,
             "#d8576b"
            ],
            [
             0.6666666666666666,
             "#ed7953"
            ],
            [
             0.7777777777777778,
             "#fb9f3a"
            ],
            [
             0.8888888888888888,
             "#fdca26"
            ],
            [
             1,
             "#f0f921"
            ]
           ],
           "sequentialminus": [
            [
             0,
             "#0d0887"
            ],
            [
             0.1111111111111111,
             "#46039f"
            ],
            [
             0.2222222222222222,
             "#7201a8"
            ],
            [
             0.3333333333333333,
             "#9c179e"
            ],
            [
             0.4444444444444444,
             "#bd3786"
            ],
            [
             0.5555555555555556,
             "#d8576b"
            ],
            [
             0.6666666666666666,
             "#ed7953"
            ],
            [
             0.7777777777777778,
             "#fb9f3a"
            ],
            [
             0.8888888888888888,
             "#fdca26"
            ],
            [
             1,
             "#f0f921"
            ]
           ]
          },
          "colorway": [
           "#636efa",
           "#EF553B",
           "#00cc96",
           "#ab63fa",
           "#FFA15A",
           "#19d3f3",
           "#FF6692",
           "#B6E880",
           "#FF97FF",
           "#FECB52"
          ],
          "font": {
           "color": "#2a3f5f"
          },
          "geo": {
           "bgcolor": "white",
           "lakecolor": "white",
           "landcolor": "#E5ECF6",
           "showlakes": true,
           "showland": true,
           "subunitcolor": "white"
          },
          "hoverlabel": {
           "align": "left"
          },
          "hovermode": "closest",
          "mapbox": {
           "style": "light"
          },
          "paper_bgcolor": "white",
          "plot_bgcolor": "#E5ECF6",
          "polar": {
           "angularaxis": {
            "gridcolor": "white",
            "linecolor": "white",
            "ticks": ""
           },
           "bgcolor": "#E5ECF6",
           "radialaxis": {
            "gridcolor": "white",
            "linecolor": "white",
            "ticks": ""
           }
          },
          "scene": {
           "xaxis": {
            "backgroundcolor": "#E5ECF6",
            "gridcolor": "white",
            "gridwidth": 2,
            "linecolor": "white",
            "showbackground": true,
            "ticks": "",
            "zerolinecolor": "white"
           },
           "yaxis": {
            "backgroundcolor": "#E5ECF6",
            "gridcolor": "white",
            "gridwidth": 2,
            "linecolor": "white",
            "showbackground": true,
            "ticks": "",
            "zerolinecolor": "white"
           },
           "zaxis": {
            "backgroundcolor": "#E5ECF6",
            "gridcolor": "white",
            "gridwidth": 2,
            "linecolor": "white",
            "showbackground": true,
            "ticks": "",
            "zerolinecolor": "white"
           }
          },
          "shapedefaults": {
           "line": {
            "color": "#2a3f5f"
           }
          },
          "ternary": {
           "aaxis": {
            "gridcolor": "white",
            "linecolor": "white",
            "ticks": ""
           },
           "baxis": {
            "gridcolor": "white",
            "linecolor": "white",
            "ticks": ""
           },
           "bgcolor": "#E5ECF6",
           "caxis": {
            "gridcolor": "white",
            "linecolor": "white",
            "ticks": ""
           }
          },
          "title": {
           "x": 0.05
          },
          "xaxis": {
           "automargin": true,
           "gridcolor": "white",
           "linecolor": "white",
           "ticks": "",
           "title": {
            "standoff": 15
           },
           "zerolinecolor": "white",
           "zerolinewidth": 2
          },
          "yaxis": {
           "automargin": true,
           "gridcolor": "white",
           "linecolor": "white",
           "ticks": "",
           "title": {
            "standoff": 15
           },
           "zerolinecolor": "white",
           "zerolinewidth": 2
          }
         }
        }
       }
      }
     },
     "metadata": {},
     "output_type": "display_data"
    },
    {
     "data": {
      "text/plain": [
       "\"\\n# Añadir título y etiquetas de ejes\\nplt.title('CORRELACION VARIOS INDICES EE.UU')\\nplt.xlabel('Fecha')\\nplt.ylabel('Valor $')\\n\\n\\n# Rotar etiquetas del eje X para mejor legibilidad\\nplt.xticks(rotation=45)\\n\\n# Mostrar cuadrícula\\nplt.grid(True)\\n\\n# Mostrar la gráfica\\nplt.show()\\n\\n\""
      ]
     },
     "execution_count": 56,
     "metadata": {},
     "output_type": "execute_result"
    }
   ],
   "source": [
    "#intento de modificar el eje y para que todas las gráficas nazcan en el mismo punto\n",
    "import plotly.graph_objects as go\n",
    "#import matplotlib.pyplot as plt\n",
    "#plt.style.use(\"bmh\")\n",
    "\n",
    "#plt.figure(figsize=(12, 6))  # Tamaño de la figura\n",
    "x = df_m2['Fecha']\n",
    "y1 = df_m2['m2']\n",
    "y2 = df_sp['Precio_Cierre_SP500_USD']\n",
    "y3 = df_oro['P_oro']\n",
    "y4 = df_btc['P_btc']\n",
    "\n",
    "'''\n",
    "# Graficar línea con personalización\n",
    "plt.plot(x, (y1/10), label='Cuadrados', color='black', linestyle='solid', linewidth =0.5, marker = 'o', markersize =1, markerfacecolor ='black', markeredgecolor = 'black')\n",
    "plt.plot(x, (y2), label='Cuadrados', color='red', linestyle='solid', linewidth =0.5, marker = 'o', markersize =1, markerfacecolor ='red', markeredgecolor = 'red')\n",
    "plt.plot(x, (y3), label='Cuadrados', color='orange', linestyle='solid', linewidth =0.5, marker = 'o', markersize =1, markerfacecolor ='orange', markeredgecolor = 'orange')\n",
    "plt.plot(x, (y4/10), label='Cuadrados', color='green', linestyle='solid', linewidth =0.5, marker = 'o', markersize =1, markerfacecolor ='green', markeredgecolor = 'green')\n",
    "\n",
    "'''\n",
    "# Encuentra el valor inicial de cada una en x = 0\n",
    "y1_inicio = y1.iloc[0]\n",
    "y2_inicio = y2.iloc[0]\n",
    "y3_inicio = y3.iloc[0]\n",
    "y4_inicio = y4.iloc[0]\n",
    "\n",
    "# Resta ese valor para que todas empiecen en el mismo valor (en este ejemplo, y=0)\n",
    "y1_norm = y1 - y1_inicio\n",
    "y2_norm = y2 - y2_inicio\n",
    "y3_norm = y3 - y3_inicio\n",
    "y4_norm = y4 - y4_inicio\n",
    "\n",
    "fig = go.Figure()\n",
    "fig.add_trace(go.Scatter(x=x, y=y1_norm, name='Serie 1'))\n",
    "fig.add_trace(go.Scatter(x=x, y=y2_norm, name='Serie 2'))\n",
    "fig.add_trace(go.Scatter(x=x, y=y3_norm, name='Serie 3'))\n",
    "fig.add_trace(go.Scatter(x=x, y=y4_norm, name='Serie 4'))\n",
    "fig.show()\n",
    "\n",
    "fig.update_layout(\n",
    "    xaxis=dict(range=['2017-10-01', '2025-08-01'])\n",
    ")\n",
    "fig.write_html(\"todos.html\")\n",
    "'''\n",
    "# Añadir título y etiquetas de ejes\n",
    "plt.title('CORRELACION VARIOS INDICES EE.UU')\n",
    "plt.xlabel('Fecha')\n",
    "plt.ylabel('Valor $')\n",
    "\n",
    "\n",
    "# Rotar etiquetas del eje X para mejor legibilidad\n",
    "plt.xticks(rotation=45)\n",
    "\n",
    "# Mostrar cuadrícula\n",
    "plt.grid(True)\n",
    "\n",
    "# Mostrar la gráfica\n",
    "plt.show()\n",
    "\n",
    "'''\n"
   ]
  },
  {
   "cell_type": "code",
   "execution_count": null,
   "id": "c381f7a1",
   "metadata": {},
   "outputs": [],
   "source": [
    "# segundo intento de graficar todas las variables en el mismo punto de inicio**********************************************\n",
    "# Valor inicial deseado (por ejemplo 0)\n",
    "inicio = 0\n",
    "\n",
    "# Normalizar cada serie\n",
    "for columna in [\"a\", \"b\", \"c\"]:\n",
    "    plt.plot(df[\"x\"], df[columna] - df[columna].iloc[0] + inicio, label=columna)\n",
    "\n",
    "plt.legend()\n",
    "plt.show()"
   ]
  },
  {
   "cell_type": "code",
   "execution_count": 66,
   "id": "b644e869",
   "metadata": {},
   "outputs": [
    {
     "data": {
      "application/vnd.plotly.v1+json": {
       "config": {
        "plotlyServerURL": "https://plot.ly"
       },
       "data": [
        {
         "line": {
          "color": "black",
          "width": 1
         },
         "mode": "lines",
         "name": "M2",
         "type": "scatter",
         "x": [
          "2014-10-01T00:00:00.000000000",
          "2014-11-01T00:00:00.000000000",
          "2014-12-01T00:00:00.000000000",
          "2015-01-01T00:00:00.000000000",
          "2015-02-01T00:00:00.000000000",
          "2015-03-01T00:00:00.000000000",
          "2015-04-01T00:00:00.000000000",
          "2015-05-01T00:00:00.000000000",
          "2015-06-01T00:00:00.000000000",
          "2015-07-01T00:00:00.000000000",
          "2015-08-01T00:00:00.000000000",
          "2015-09-01T00:00:00.000000000",
          "2015-10-01T00:00:00.000000000",
          "2015-11-01T00:00:00.000000000",
          "2015-12-01T00:00:00.000000000",
          "2016-01-01T00:00:00.000000000",
          "2016-02-01T00:00:00.000000000",
          "2016-03-01T00:00:00.000000000",
          "2016-04-01T00:00:00.000000000",
          "2016-05-01T00:00:00.000000000",
          "2016-06-01T00:00:00.000000000",
          "2016-07-01T00:00:00.000000000",
          "2016-08-01T00:00:00.000000000",
          "2016-09-01T00:00:00.000000000",
          "2016-10-01T00:00:00.000000000",
          "2016-11-01T00:00:00.000000000",
          "2016-12-01T00:00:00.000000000",
          "2017-01-01T00:00:00.000000000",
          "2017-02-01T00:00:00.000000000",
          "2017-03-01T00:00:00.000000000",
          "2017-04-01T00:00:00.000000000",
          "2017-05-01T00:00:00.000000000",
          "2017-06-01T00:00:00.000000000",
          "2017-07-01T00:00:00.000000000",
          "2017-08-01T00:00:00.000000000",
          "2017-09-01T00:00:00.000000000",
          "2017-10-01T00:00:00.000000000",
          "2017-11-01T00:00:00.000000000",
          "2017-12-01T00:00:00.000000000",
          "2018-01-01T00:00:00.000000000",
          "2018-02-01T00:00:00.000000000",
          "2018-03-01T00:00:00.000000000",
          "2018-04-01T00:00:00.000000000",
          "2018-05-01T00:00:00.000000000",
          "2018-06-01T00:00:00.000000000",
          "2018-07-01T00:00:00.000000000",
          "2018-08-01T00:00:00.000000000",
          "2018-09-01T00:00:00.000000000",
          "2018-10-01T00:00:00.000000000",
          "2018-11-01T00:00:00.000000000",
          "2018-12-01T00:00:00.000000000",
          "2019-01-01T00:00:00.000000000",
          "2019-02-01T00:00:00.000000000",
          "2019-03-01T00:00:00.000000000",
          "2019-04-01T00:00:00.000000000",
          "2019-05-01T00:00:00.000000000",
          "2019-06-01T00:00:00.000000000",
          "2019-07-01T00:00:00.000000000",
          "2019-08-01T00:00:00.000000000",
          "2019-09-01T00:00:00.000000000",
          "2019-10-01T00:00:00.000000000",
          "2019-11-01T00:00:00.000000000",
          "2019-12-01T00:00:00.000000000",
          "2020-01-01T00:00:00.000000000",
          "2020-02-01T00:00:00.000000000",
          "2020-03-01T00:00:00.000000000",
          "2020-04-01T00:00:00.000000000",
          "2020-05-01T00:00:00.000000000",
          "2020-06-01T00:00:00.000000000",
          "2020-07-01T00:00:00.000000000",
          "2020-08-01T00:00:00.000000000",
          "2020-09-01T00:00:00.000000000",
          "2020-10-01T00:00:00.000000000",
          "2020-11-01T00:00:00.000000000",
          "2020-12-01T00:00:00.000000000",
          "2021-01-01T00:00:00.000000000",
          "2021-02-01T00:00:00.000000000",
          "2021-03-01T00:00:00.000000000",
          "2021-04-01T00:00:00.000000000",
          "2021-05-01T00:00:00.000000000",
          "2021-06-01T00:00:00.000000000",
          "2021-07-01T00:00:00.000000000",
          "2021-08-01T00:00:00.000000000",
          "2021-09-01T00:00:00.000000000",
          "2021-10-01T00:00:00.000000000",
          "2021-11-01T00:00:00.000000000",
          "2021-12-01T00:00:00.000000000",
          "2022-01-01T00:00:00.000000000",
          "2022-02-01T00:00:00.000000000",
          "2022-03-01T00:00:00.000000000",
          "2022-04-01T00:00:00.000000000",
          "2022-05-01T00:00:00.000000000",
          "2022-06-01T00:00:00.000000000",
          "2022-07-01T00:00:00.000000000",
          "2022-08-01T00:00:00.000000000",
          "2022-09-01T00:00:00.000000000",
          "2022-10-01T00:00:00.000000000",
          "2022-11-01T00:00:00.000000000",
          "2022-12-01T00:00:00.000000000",
          "2023-01-01T00:00:00.000000000",
          "2023-02-01T00:00:00.000000000",
          "2023-03-01T00:00:00.000000000",
          "2023-04-01T00:00:00.000000000",
          "2023-05-01T00:00:00.000000000",
          "2023-06-01T00:00:00.000000000",
          "2023-07-01T00:00:00.000000000",
          "2023-08-01T00:00:00.000000000",
          "2023-09-01T00:00:00.000000000",
          "2023-10-01T00:00:00.000000000",
          "2023-11-01T00:00:00.000000000",
          "2023-12-01T00:00:00.000000000",
          "2024-01-01T00:00:00.000000000",
          "2024-02-01T00:00:00.000000000",
          "2024-03-01T00:00:00.000000000",
          "2024-04-01T00:00:00.000000000",
          "2024-05-01T00:00:00.000000000",
          "2024-06-01T00:00:00.000000000",
          "2024-07-01T00:00:00.000000000",
          "2024-08-01T00:00:00.000000000",
          "2024-09-01T00:00:00.000000000",
          "2024-10-01T00:00:00.000000000",
          "2024-11-01T00:00:00.000000000",
          "2024-12-01T00:00:00.000000000",
          "2025-01-01T00:00:00.000000000",
          "2025-02-01T00:00:00.000000000",
          "2025-03-01T00:00:00.000000000",
          "2025-04-01T00:00:00.000000000",
          "2025-05-01T00:00:00.000000000",
          "2025-06-01T00:00:00.000000000",
          "2025-07-01T00:00:00.000000000",
          "2025-08-01T00:00:00.000000000"
         ],
         "y": {
          "bdata": "AAAAAMCcxkCamZmZGbHGQDMzMzPz2sZAZmZmZmYGx0DNzMzMzEDHQJqZmZnZP8dAzczMzMxQx0AAAAAAgF7HQM3MzMzMcsdAmpmZmZmIx0CamZmZ2Z7HQGZmZmZmvcdAzczMzAzXx0AAAAAAwATIQJqZmZlZKMhAAAAAAABtyECamZmZGZHIQAAAAACAqshAAAAAAADSyEAAAAAAgPPIQDMzMzOzEclAmpmZmdksyUAzMzMz81bJQJqZmZkZdclAAAAAAMCZyUAAAAAAgL7JQM3MzMwM1clAmpmZmVn6yUBmZmZmphvKQJqZmZlZOspAmpmZmVlWykCamZmZWXDKQAAAAABAe8pAMzMzM7OXykDNzMzMTLXKQAAAAACAzcpAZmZmZibrykAzMzMzc/vKQGZmZmbmGMtAmpmZmZkdy0BmZmZmpi/LQAAAAAAATMtAMzMzM/NUy0DNzMzMzHDLQDMzMzPzjstAmpmZmRmgy0AzMzMz87jLQGZmZmamystAMzMzM7PQy0BmZmZmZtrLQM3MzMxMF8xAzczMzAw3zECamZmZmUjMQJqZmZkZX8xAAAAAAEBtzEAzMzMzM57MQDMzMzOz2cxAAAAAAMACzUCamZmZWSvNQDMzMzOzW81AZmZmZqafzUAzMzMzc9bNQAAAAAAA+s1AZmZmZmYczkAAAAAAgDXOQGZmZmbmPM9AMzMzM3Ob0ECamZmZWW/RQGZmZmZGt9FAAAAAAIDe0UAzMzMzE+/RQGZmZmYmKdJAMzMzM9NP0kBmZmZmxojSQM3MzMxMr9JAzczMzOzn0kDNzMzMLCPTQJqZmZnZW9NAzczMzGyw00BmZmZmpvPTQJqZmZk5/tNAzczMzAwl1EAAAAAAwFLUQM3MzMzMfNRAMzMzM5Ol1EAzMzMzM9HUQAAAAADA99RAMzMzM9MU1UAAAAAAQC3VQDMzMzNTNtVAAAAAAIA91UDNzMzMrC7VQJqZmZm5ItVAzczMzGwi1UCamZmZuRnVQGZmZmZGBNVAAAAAACDs1EBmZmZmhtvUQGZmZmbGuNRAMzMzM1O11EAAAAAAILDUQM3MzMwMY9RAMzMzM3M+1EDNzMzMTFDUQM3MzMysS9RAZmZmZgZJ1ECamZmZuULUQAAAAAAgPNRAmpmZmdkz1EAzMzMzMzbUQJqZmZlZN9RAZmZmZkZJ1EBmZmZmRl/UQGZmZmZGadRAzczMzCxx1EDNzMzMbIHUQGZmZmZmktRAZmZmZoaa1EAzMzMzU7DUQM3MzMwMxtRAZmZmZubS1EAAAAAAIOzUQDMzMzNz8NRAmpmZmbkB1UDNzMzMDBTVQJqZmZk5JtVAZmZmZkZL1UBmZmZmJl/VQGZmZmaGgdVAMzMzM/OY1UCamZmZ2azVQA==",
          "dtype": "f8"
         }
        },
        {
         "line": {
          "color": "red",
          "width": 1
         },
         "mode": "lines",
         "name": "SP500",
         "type": "scatter",
         "x": [
          "2014-10-01T00:00:00.000000000",
          "2014-11-01T00:00:00.000000000",
          "2014-12-01T00:00:00.000000000",
          "2015-01-01T00:00:00.000000000",
          "2015-02-01T00:00:00.000000000",
          "2015-03-01T00:00:00.000000000",
          "2015-04-01T00:00:00.000000000",
          "2015-05-01T00:00:00.000000000",
          "2015-06-01T00:00:00.000000000",
          "2015-07-01T00:00:00.000000000",
          "2015-08-01T00:00:00.000000000",
          "2015-09-01T00:00:00.000000000",
          "2015-10-01T00:00:00.000000000",
          "2015-11-01T00:00:00.000000000",
          "2015-12-01T00:00:00.000000000",
          "2016-01-01T00:00:00.000000000",
          "2016-02-01T00:00:00.000000000",
          "2016-03-01T00:00:00.000000000",
          "2016-04-01T00:00:00.000000000",
          "2016-05-01T00:00:00.000000000",
          "2016-06-01T00:00:00.000000000",
          "2016-07-01T00:00:00.000000000",
          "2016-08-01T00:00:00.000000000",
          "2016-09-01T00:00:00.000000000",
          "2016-10-01T00:00:00.000000000",
          "2016-11-01T00:00:00.000000000",
          "2016-12-01T00:00:00.000000000",
          "2017-01-01T00:00:00.000000000",
          "2017-02-01T00:00:00.000000000",
          "2017-03-01T00:00:00.000000000",
          "2017-04-01T00:00:00.000000000",
          "2017-05-01T00:00:00.000000000",
          "2017-06-01T00:00:00.000000000",
          "2017-07-01T00:00:00.000000000",
          "2017-08-01T00:00:00.000000000",
          "2017-09-01T00:00:00.000000000",
          "2017-10-01T00:00:00.000000000",
          "2017-11-01T00:00:00.000000000",
          "2017-12-01T00:00:00.000000000",
          "2018-01-01T00:00:00.000000000",
          "2018-02-01T00:00:00.000000000",
          "2018-03-01T00:00:00.000000000",
          "2018-04-01T00:00:00.000000000",
          "2018-05-01T00:00:00.000000000",
          "2018-06-01T00:00:00.000000000",
          "2018-07-01T00:00:00.000000000",
          "2018-08-01T00:00:00.000000000",
          "2018-09-01T00:00:00.000000000",
          "2018-10-01T00:00:00.000000000",
          "2018-11-01T00:00:00.000000000",
          "2018-12-01T00:00:00.000000000",
          "2019-01-01T00:00:00.000000000",
          "2019-02-01T00:00:00.000000000",
          "2019-03-01T00:00:00.000000000",
          "2019-04-01T00:00:00.000000000",
          "2019-05-01T00:00:00.000000000",
          "2019-06-01T00:00:00.000000000",
          "2019-07-01T00:00:00.000000000",
          "2019-08-01T00:00:00.000000000",
          "2019-09-01T00:00:00.000000000",
          "2019-10-01T00:00:00.000000000",
          "2019-11-01T00:00:00.000000000",
          "2019-12-01T00:00:00.000000000",
          "2020-01-01T00:00:00.000000000",
          "2020-02-01T00:00:00.000000000",
          "2020-03-01T00:00:00.000000000",
          "2020-04-01T00:00:00.000000000",
          "2020-05-01T00:00:00.000000000",
          "2020-06-01T00:00:00.000000000",
          "2020-07-01T00:00:00.000000000",
          "2020-08-01T00:00:00.000000000",
          "2020-09-01T00:00:00.000000000",
          "2020-10-01T00:00:00.000000000",
          "2020-11-01T00:00:00.000000000",
          "2020-12-01T00:00:00.000000000",
          "2021-01-01T00:00:00.000000000",
          "2021-02-01T00:00:00.000000000",
          "2021-03-01T00:00:00.000000000",
          "2021-04-01T00:00:00.000000000",
          "2021-05-01T00:00:00.000000000",
          "2021-06-01T00:00:00.000000000",
          "2021-07-01T00:00:00.000000000",
          "2021-08-01T00:00:00.000000000",
          "2021-09-01T00:00:00.000000000",
          "2021-10-01T00:00:00.000000000",
          "2021-11-01T00:00:00.000000000",
          "2021-12-01T00:00:00.000000000",
          "2022-01-01T00:00:00.000000000",
          "2022-02-01T00:00:00.000000000",
          "2022-03-01T00:00:00.000000000",
          "2022-04-01T00:00:00.000000000",
          "2022-05-01T00:00:00.000000000",
          "2022-06-01T00:00:00.000000000",
          "2022-07-01T00:00:00.000000000",
          "2022-08-01T00:00:00.000000000",
          "2022-09-01T00:00:00.000000000",
          "2022-10-01T00:00:00.000000000",
          "2022-11-01T00:00:00.000000000",
          "2022-12-01T00:00:00.000000000",
          "2023-01-01T00:00:00.000000000",
          "2023-02-01T00:00:00.000000000",
          "2023-03-01T00:00:00.000000000",
          "2023-04-01T00:00:00.000000000",
          "2023-05-01T00:00:00.000000000",
          "2023-06-01T00:00:00.000000000",
          "2023-07-01T00:00:00.000000000",
          "2023-08-01T00:00:00.000000000",
          "2023-09-01T00:00:00.000000000",
          "2023-10-01T00:00:00.000000000",
          "2023-11-01T00:00:00.000000000",
          "2023-12-01T00:00:00.000000000",
          "2024-01-01T00:00:00.000000000",
          "2024-02-01T00:00:00.000000000",
          "2024-03-01T00:00:00.000000000",
          "2024-04-01T00:00:00.000000000",
          "2024-05-01T00:00:00.000000000",
          "2024-06-01T00:00:00.000000000",
          "2024-07-01T00:00:00.000000000",
          "2024-08-01T00:00:00.000000000",
          "2024-09-01T00:00:00.000000000",
          "2024-10-01T00:00:00.000000000",
          "2024-11-01T00:00:00.000000000",
          "2024-12-01T00:00:00.000000000",
          "2025-01-01T00:00:00.000000000",
          "2025-02-01T00:00:00.000000000",
          "2025-03-01T00:00:00.000000000",
          "2025-04-01T00:00:00.000000000",
          "2025-05-01T00:00:00.000000000",
          "2025-06-01T00:00:00.000000000",
          "2025-07-01T00:00:00.000000000",
          "2025-08-01T00:00:00.000000000"
         ],
         "y": {
          "bdata": "AAAAACnRnkAAAABAM4ifQAAAAMAeJ6BAAAAAwMwVoEAAAADA9SufQAAAAAAAcaBAAAAAoMcnoEAAAAAgBUugQAAAAKDHdqBAAAAAYDgeoEAAAAAgrm+gQAAAAGC40J5AAAAAwB4AnkAAAABguD6gQAAAAODRQKBAAAAAgMLvn0AAAADA9VCeQAAAAIDrMJ5AAAAA4HoXoEAAAACgmSKgQAAAAGDmYaBAAAAAYLhloEAAAABAM/ugQAAAAGDm9aBAAAAAQIrwoEAAAADATJygQAAAAMCeLaFAAAAAAKl9oUAAAACAvc2hQAAAAKBHd6JAAAAAoHB1okAAAABgZqCiQAAAAKCZ16JAAAAA4NHuokAAAACgmUyjQAAAAMBMT6NAAAAAYLiuo0AAAAAghR6kQAAAAAApr6RAAAAAYDjjpEAAAADAng+mQAAAAACpM6VAAAAAgL2hpEAAAACgGbCkQAAAAECKIqVAAAAAgL08pUAAAACAlACmQAAAAEAKq6ZAAAAAwPXDpkAAAADgei+lQAAAAABXkKVAAAAAQLOVo0AAAABAMyClQAAAAOD6wKVAAAAAwMwkpkAAAAAAqQOnQAAAAMAegKVAAAAAIIX7pkAAAACAwkinQAAAAIDr3KZAAAAA4HpBp0AAAADAHrunQAAAAMD1iahAAAAAYI89qUAAAABACjOpQAAAAKBwFKdAAAAAIC4xpEAAAAAg3MCmQAAAAMCeyKdAAAAAgJQ4qEAAAACAPY6pQAAAAMCeWKtAAAAAAABGqkAAAACA64upQAAAAIBCS6xAAAAA4CNYrUAAAADgegStQAAAAMBMxq1AAAAAoMcJr0AAAACAK1WwQAAAACAcbLBAAAAAAIDJsEAAAACAQiuxQAAAACCuqrFAAAAAQIrTsEAAAABAYf2xQAAAAAAA17FAAAAAIC6eskAAAADAjKOxQAAAAKDwFbFAAAAAAGmysUAAAAAg7iOwQAAAAGAmJLBAAAAAgMKSrUAAAABASiKwQAAAAAAA5q5AAAAAgD0DrEAAAADA9T+uQAAAAGA44K9AAAAAAAD/rUAAAABAM9mvQAAAAMBMBK9AAAAAYE8NsEAAAADgekmwQAAAAIDUU7BAAAAAQGFisUAAAADA9eyxQAAAAACpm7FAAAAAwAzAsEAAAADAzGGwQAAAAMDM17FAAAAAgNShskAAAABgpu2yQAAAACBF6LNAAAAAoFmGtEAAAACgsKuzQAAAAICCnbRAAAAA4HpUtUAAAADATJK1QAAAAGBmELZAAAAA4HqCtkAAAABAc0m2QAAAAEBhkLdAAAAAQKH5tkAAAACgh5i3QAAAAACAQrdAAAAAoNnrtUAAAABgD8G1QAAAAKCwF7dAAAAAQPM8uEAAAADgY8O4QA==",
          "dtype": "f8"
         }
        },
        {
         "line": {
          "color": "yellow",
          "width": 1
         },
         "mode": "lines",
         "name": "Oro",
         "type": "scatter",
         "x": [
          "2014-10-01T00:00:00.000000000",
          "2014-11-01T00:00:00.000000000",
          "2014-12-01T00:00:00.000000000",
          "2015-01-01T00:00:00.000000000",
          "2015-02-01T00:00:00.000000000",
          "2015-03-01T00:00:00.000000000",
          "2015-04-01T00:00:00.000000000",
          "2015-05-01T00:00:00.000000000",
          "2015-06-01T00:00:00.000000000",
          "2015-07-01T00:00:00.000000000",
          "2015-08-01T00:00:00.000000000",
          "2015-09-01T00:00:00.000000000",
          "2015-10-01T00:00:00.000000000",
          "2015-11-01T00:00:00.000000000",
          "2015-12-01T00:00:00.000000000",
          "2016-01-01T00:00:00.000000000",
          "2016-02-01T00:00:00.000000000",
          "2016-03-01T00:00:00.000000000",
          "2016-04-01T00:00:00.000000000",
          "2016-05-01T00:00:00.000000000",
          "2016-06-01T00:00:00.000000000",
          "2016-07-01T00:00:00.000000000",
          "2016-08-01T00:00:00.000000000",
          "2016-09-01T00:00:00.000000000",
          "2016-10-01T00:00:00.000000000",
          "2016-11-01T00:00:00.000000000",
          "2016-12-01T00:00:00.000000000",
          "2017-01-01T00:00:00.000000000",
          "2017-02-01T00:00:00.000000000",
          "2017-03-01T00:00:00.000000000",
          "2017-04-01T00:00:00.000000000",
          "2017-05-01T00:00:00.000000000",
          "2017-06-01T00:00:00.000000000",
          "2017-07-01T00:00:00.000000000",
          "2017-08-01T00:00:00.000000000",
          "2017-09-01T00:00:00.000000000",
          "2017-10-01T00:00:00.000000000",
          "2017-11-01T00:00:00.000000000",
          "2017-12-01T00:00:00.000000000",
          "2018-01-01T00:00:00.000000000",
          "2018-02-01T00:00:00.000000000",
          "2018-03-01T00:00:00.000000000",
          "2018-04-01T00:00:00.000000000",
          "2018-05-01T00:00:00.000000000",
          "2018-06-01T00:00:00.000000000",
          "2018-07-01T00:00:00.000000000",
          "2018-08-01T00:00:00.000000000",
          "2018-09-01T00:00:00.000000000",
          "2018-10-01T00:00:00.000000000",
          "2018-11-01T00:00:00.000000000",
          "2018-12-01T00:00:00.000000000",
          "2019-01-01T00:00:00.000000000",
          "2019-02-01T00:00:00.000000000",
          "2019-03-01T00:00:00.000000000",
          "2019-04-01T00:00:00.000000000",
          "2019-05-01T00:00:00.000000000",
          "2019-06-01T00:00:00.000000000",
          "2019-07-01T00:00:00.000000000",
          "2019-08-01T00:00:00.000000000",
          "2019-09-01T00:00:00.000000000",
          "2019-10-01T00:00:00.000000000",
          "2019-11-01T00:00:00.000000000",
          "2019-12-01T00:00:00.000000000",
          "2020-01-01T00:00:00.000000000",
          "2020-02-01T00:00:00.000000000",
          "2020-03-01T00:00:00.000000000",
          "2020-04-01T00:00:00.000000000",
          "2020-05-01T00:00:00.000000000",
          "2020-06-01T00:00:00.000000000",
          "2020-07-01T00:00:00.000000000",
          "2020-08-01T00:00:00.000000000",
          "2020-09-01T00:00:00.000000000",
          "2020-10-01T00:00:00.000000000",
          "2020-11-01T00:00:00.000000000",
          "2020-12-01T00:00:00.000000000",
          "2021-01-01T00:00:00.000000000",
          "2021-02-01T00:00:00.000000000",
          "2021-03-01T00:00:00.000000000",
          "2021-04-01T00:00:00.000000000",
          "2021-05-01T00:00:00.000000000",
          "2021-06-01T00:00:00.000000000",
          "2021-07-01T00:00:00.000000000",
          "2021-08-01T00:00:00.000000000",
          "2021-09-01T00:00:00.000000000",
          "2021-10-01T00:00:00.000000000",
          "2021-11-01T00:00:00.000000000",
          "2021-12-01T00:00:00.000000000",
          "2022-01-01T00:00:00.000000000",
          "2022-02-01T00:00:00.000000000",
          "2022-03-01T00:00:00.000000000",
          "2022-04-01T00:00:00.000000000",
          "2022-05-01T00:00:00.000000000",
          "2022-06-01T00:00:00.000000000",
          "2022-07-01T00:00:00.000000000",
          "2022-08-01T00:00:00.000000000",
          "2022-09-01T00:00:00.000000000",
          "2022-10-01T00:00:00.000000000",
          "2022-11-01T00:00:00.000000000",
          "2022-12-01T00:00:00.000000000",
          "2023-01-01T00:00:00.000000000",
          "2023-02-01T00:00:00.000000000",
          "2023-03-01T00:00:00.000000000",
          "2023-04-01T00:00:00.000000000",
          "2023-05-01T00:00:00.000000000",
          "2023-06-01T00:00:00.000000000",
          "2023-07-01T00:00:00.000000000",
          "2023-08-01T00:00:00.000000000",
          "2023-09-01T00:00:00.000000000",
          "2023-10-01T00:00:00.000000000",
          "2023-11-01T00:00:00.000000000",
          "2023-12-01T00:00:00.000000000",
          "2024-01-01T00:00:00.000000000",
          "2024-02-01T00:00:00.000000000",
          "2024-03-01T00:00:00.000000000",
          "2024-04-01T00:00:00.000000000",
          "2024-05-01T00:00:00.000000000",
          "2024-06-01T00:00:00.000000000",
          "2024-07-01T00:00:00.000000000",
          "2024-08-01T00:00:00.000000000",
          "2024-09-01T00:00:00.000000000",
          "2024-10-01T00:00:00.000000000",
          "2024-11-01T00:00:00.000000000",
          "2024-12-01T00:00:00.000000000",
          "2025-01-01T00:00:00.000000000",
          "2025-02-01T00:00:00.000000000",
          "2025-03-01T00:00:00.000000000",
          "2025-04-01T00:00:00.000000000",
          "2025-05-01T00:00:00.000000000",
          "2025-06-01T00:00:00.000000000",
          "2025-07-01T00:00:00.000000000",
          "2025-08-01T00:00:00.000000000"
         ],
         "y": {
          "bdata": "AAAAAADqkkAAAABgZkySQAAAAMDMXJJAAAAAoJl/kkAAAAAAAPqTQAAAAGBm8pJAAAAAYGZ8kkAAAACgmXmSQAAAAKCZlZJAAAAAAABOkkAAAACgmRuRQAAAAGBmrpFAAAAAAABukUAAAAAAANaRQAAAAEAzp5BAAAAAQDORkEAAAACgmXGRQAAAAKCZR5NAAAAAwMxIk0AAAADAzCSUQAAAAEAz+5JAAAAAoJmZlEAAAAAAABSVQAAAAKCZa5RAAAAAQDOFlEAAAAAAAN6TQAAAAEAzS5JAAAAAAAD4kUAAAABgZuKSQAAAAGBmkpNAAAAAQDN9k0AAAABgZsiTQAAAAAAA4JNAAAAAwMxik0AAAABgZsqTQAAAAMDMkJRAAAAAAAAGlEAAAAAAAMyTQAAAAMDM5JNAAAAAQDNplEAAAAAAAOyUQAAAAAAAjpRAAAAAQDOrlEAAAADAzJCUQAAAAGBmUJRAAAAAQDONk0AAAADAzB6TQAAAAEAzwZJAAAAAAACekkAAAABAM/GSQAAAAMDMEJNAAAAAQDP5k0AAAADAzJ6UQAAAAEAzg5RAAAAAAAA0lEAAAABAMwuUQAAAAEAzZ5RAAAAAwMwGlkAAAABgZkiWQAAAAGBmvJdAAAAAwMzmlkAAAACgmZ2XQAAAAGBm5pZAAAAAAAC+l0AAAACgmbuYQAAAAGBmcJhAAAAAoJm9mEAAAADAzFCaQAAAAKCZI5tAAAAAAAAEnEAAAABAM6ueQAAAAGBmvp5AAAAAAAB+nUAAAACgmVWdQAAAAMDMvptAAAAAYGaUnUAAAABAM92cQAAAAGBmAJtAAAAAQDPHmkAAAABAM52bQAAAAAAAup1AAAAAQDOrm0AAAABgZlKcQAAAAAAAXJxAAAAAQDNtm0AAAAAAANybQAAAAGBmtptAAAAAAACOnEAAAAAAAAycQAAAAKCZrZ1AAAAAwMx0nkAAAABAM9WdQAAAAMDMypxAAAAAYGYwnEAAAACgmYubQAAAAEAzw5pAAAAAoJn5mUAAAACgmY+ZQAAAAAAASJtAAAAAwMxunEAAAAAAACaeQAAAAKCZk5xAAAAAAADEnkAAAABgZhifQAAAAKCZr55AAAAAYGYEnkAAAAAAAMqeQAAAAMDMSJ5AAAAAYGbgnEAAAADAzASfQAAAAGBm2J9AAAAAwMwcoEAAAADAzACgQAAAAMDM9p9AAAAAwMxSoUAAAADAzOahQAAAAMDMJaJAAAAAYGYvokAAAAAAAPWiQAAAAKCZe6NAAAAAQDOYpEAAAACgmWSlQAAAAAAAwqRAAAAAYGaKpEAAAAAAAPmlQAAAAKCZKaZAAAAAoJllqEAAAAAAANKpQAAAAMDMsalAAAAAwMy8qUAAAABgZrqpQA==",
          "dtype": "f8"
         }
        },
        {
         "line": {
          "color": "green",
          "width": 1
         },
         "mode": "lines",
         "name": "Btc",
         "type": "scatter",
         "x": [
          "2014-10-01T00:00:00.000000000",
          "2014-11-01T00:00:00.000000000",
          "2014-12-01T00:00:00.000000000",
          "2015-01-01T00:00:00.000000000",
          "2015-02-01T00:00:00.000000000",
          "2015-03-01T00:00:00.000000000",
          "2015-04-01T00:00:00.000000000",
          "2015-05-01T00:00:00.000000000",
          "2015-06-01T00:00:00.000000000",
          "2015-07-01T00:00:00.000000000",
          "2015-08-01T00:00:00.000000000",
          "2015-09-01T00:00:00.000000000",
          "2015-10-01T00:00:00.000000000",
          "2015-11-01T00:00:00.000000000",
          "2015-12-01T00:00:00.000000000",
          "2016-01-01T00:00:00.000000000",
          "2016-02-01T00:00:00.000000000",
          "2016-03-01T00:00:00.000000000",
          "2016-04-01T00:00:00.000000000",
          "2016-05-01T00:00:00.000000000",
          "2016-06-01T00:00:00.000000000",
          "2016-07-01T00:00:00.000000000",
          "2016-08-01T00:00:00.000000000",
          "2016-09-01T00:00:00.000000000",
          "2016-10-01T00:00:00.000000000",
          "2016-11-01T00:00:00.000000000",
          "2016-12-01T00:00:00.000000000",
          "2017-01-01T00:00:00.000000000",
          "2017-02-01T00:00:00.000000000",
          "2017-03-01T00:00:00.000000000",
          "2017-04-01T00:00:00.000000000",
          "2017-05-01T00:00:00.000000000",
          "2017-06-01T00:00:00.000000000",
          "2017-07-01T00:00:00.000000000",
          "2017-08-01T00:00:00.000000000",
          "2017-09-01T00:00:00.000000000",
          "2017-10-01T00:00:00.000000000",
          "2017-11-01T00:00:00.000000000",
          "2017-12-01T00:00:00.000000000",
          "2018-01-01T00:00:00.000000000",
          "2018-02-01T00:00:00.000000000",
          "2018-03-01T00:00:00.000000000",
          "2018-04-01T00:00:00.000000000",
          "2018-05-01T00:00:00.000000000",
          "2018-06-01T00:00:00.000000000",
          "2018-07-01T00:00:00.000000000",
          "2018-08-01T00:00:00.000000000",
          "2018-09-01T00:00:00.000000000",
          "2018-10-01T00:00:00.000000000",
          "2018-11-01T00:00:00.000000000",
          "2018-12-01T00:00:00.000000000",
          "2019-01-01T00:00:00.000000000",
          "2019-02-01T00:00:00.000000000",
          "2019-03-01T00:00:00.000000000",
          "2019-04-01T00:00:00.000000000",
          "2019-05-01T00:00:00.000000000",
          "2019-06-01T00:00:00.000000000",
          "2019-07-01T00:00:00.000000000",
          "2019-08-01T00:00:00.000000000",
          "2019-09-01T00:00:00.000000000",
          "2019-10-01T00:00:00.000000000",
          "2019-11-01T00:00:00.000000000",
          "2019-12-01T00:00:00.000000000",
          "2020-01-01T00:00:00.000000000",
          "2020-02-01T00:00:00.000000000",
          "2020-03-01T00:00:00.000000000",
          "2020-04-01T00:00:00.000000000",
          "2020-05-01T00:00:00.000000000",
          "2020-06-01T00:00:00.000000000",
          "2020-07-01T00:00:00.000000000",
          "2020-08-01T00:00:00.000000000",
          "2020-09-01T00:00:00.000000000",
          "2020-10-01T00:00:00.000000000",
          "2020-11-01T00:00:00.000000000",
          "2020-12-01T00:00:00.000000000",
          "2021-01-01T00:00:00.000000000",
          "2021-02-01T00:00:00.000000000",
          "2021-03-01T00:00:00.000000000",
          "2021-04-01T00:00:00.000000000",
          "2021-05-01T00:00:00.000000000",
          "2021-06-01T00:00:00.000000000",
          "2021-07-01T00:00:00.000000000",
          "2021-08-01T00:00:00.000000000",
          "2021-09-01T00:00:00.000000000",
          "2021-10-01T00:00:00.000000000",
          "2021-11-01T00:00:00.000000000",
          "2021-12-01T00:00:00.000000000",
          "2022-01-01T00:00:00.000000000",
          "2022-02-01T00:00:00.000000000",
          "2022-03-01T00:00:00.000000000",
          "2022-04-01T00:00:00.000000000",
          "2022-05-01T00:00:00.000000000",
          "2022-06-01T00:00:00.000000000",
          "2022-07-01T00:00:00.000000000",
          "2022-08-01T00:00:00.000000000",
          "2022-09-01T00:00:00.000000000",
          "2022-10-01T00:00:00.000000000",
          "2022-11-01T00:00:00.000000000",
          "2022-12-01T00:00:00.000000000",
          "2023-01-01T00:00:00.000000000",
          "2023-02-01T00:00:00.000000000",
          "2023-03-01T00:00:00.000000000",
          "2023-04-01T00:00:00.000000000",
          "2023-05-01T00:00:00.000000000",
          "2023-06-01T00:00:00.000000000",
          "2023-07-01T00:00:00.000000000",
          "2023-08-01T00:00:00.000000000",
          "2023-09-01T00:00:00.000000000",
          "2023-10-01T00:00:00.000000000",
          "2023-11-01T00:00:00.000000000",
          "2023-12-01T00:00:00.000000000",
          "2024-01-01T00:00:00.000000000",
          "2024-02-01T00:00:00.000000000",
          "2024-03-01T00:00:00.000000000",
          "2024-04-01T00:00:00.000000000",
          "2024-05-01T00:00:00.000000000",
          "2024-06-01T00:00:00.000000000",
          "2024-07-01T00:00:00.000000000",
          "2024-08-01T00:00:00.000000000",
          "2024-09-01T00:00:00.000000000",
          "2024-10-01T00:00:00.000000000",
          "2024-11-01T00:00:00.000000000",
          "2024-12-01T00:00:00.000000000",
          "2025-01-01T00:00:00.000000000",
          "2025-02-01T00:00:00.000000000",
          "2025-03-01T00:00:00.000000000",
          "2025-04-01T00:00:00.000000000",
          "2025-05-01T00:00:00.000000000",
          "2025-06-01T00:00:00.000000000",
          "2025-07-01T00:00:00.000000000",
          "2025-08-01T00:00:00.000000000"
         ],
         "y": {
          "bdata": "AAAAoBoveEAAAADgIiV1QAAAAIDAoHdAAAAAgBYDdEAAAAAg2S5rQAAAAIBqyG9AAAAAACuHbkAAAADgo4RtQAAAAIAUxmxAAAAA4CZxcEAAAABgZspxQAAAAMDKwWxAAAAAgOuBbUAAAADgp6JzQAAAAOAilXdAAAAAYBLpekAAAACgRQx3QAAAAOAmW3tAAAAAAKoLekAAAACAFgV8QAAAAIAWm4BAAAAAILIKhUAAAADAcoWDQAAAAKDG+4FAAAAAQOENg0AAAACgxueFQAAAACCHTYdAAAAAoPEdjkAAAABgOVOOQAAAAEDhb5JAAAAAACm/kEAAAABgjw+VQAAAAODR3KFAAAAAIK5ho0AAAAAgrnamQAAAAOBjX7JAAAAAwLXysEAAAABgZkS5QAAAAMDM/MNAAAAAQDOmy0AAAADAjPbDQAAAAEDzTsRAAAAAoIc9u0AAAABgRgzCQAAAAIArRr1AAAAAAAAEuUAAAACgcGS+QAAAAICUfbtAAAAAYI/huUAAAAAgnK24QAAAAICJYq9AAAAAoGY9rUAAAADglQOrQAAAACCSHa5AAAAAgGcJsEAAAAAAuua0QAAAAEBAv8BAAAAA4JMgxUAAAABg0LLDQAAAAABVz8JAAAAAIO8ywEAAAADgyvfBQAAAAEChkb1AAAAAYJkZvEAAAADAQ0PCQAAAACDBy8BAAAAAAKUmuUAAAADgRunAQAAAAICHesJAAAAAIP/YwUAAAADAux3GQAAAAABp0MZAAAAA4D4QxUAAAABgf+rKQAAAAIB1KtNAAAAAIG5S3EAAAACASyvgQAAAAKA4CuZAAAAAoNrE7EAAAACgxTLsQAAAAGCbOuJAAAAAwBoc4UAAAABARlPkQAAAAADWB+dAAAAAoNxh5UAAAACg3vDtQAAAAKCt1etAAAAAQE6c5kAAAAAAZMriQAAAAIAnF+VAAAAAoFU85kAAAAAAXGriQAAAAOATDN9AAAAAgC5S00AAAABgOcrWQAAAAOBwlNNAAAAAgPL50kAAAACA8QPUQAAAAEAkxNBAAAAAwN8o0EAAAAAg0pjWQAAAAKDWmtZAAAAAAJ/P20AAAACgM5XcQAAAACDqlNpAAAAAIFDD3UAAAAAgh4vcQAAAAEDeUtlAAAAAoPpV2kAAAAAAee3gQAAAAOAXauJAAAAAACaj5EAAAABg08rkQAAAAEDM4e1AAAAAYFpq8UAAAABgm5vtQAAAAKA2evBAAAAAYMma7kAAAAAAaI3vQAAAAMA8y+xAAAAAADDs7kAAAAAAcyTxQAAAAOAQjPdAAAAAQFPP9kAAAABgUAD5QAAAACBQmfRAAAAAoE4n9EAAAAAA9f/2QAAAAIDhi/lAAAAAYPUn+kAAAABA40L8QA==",
          "dtype": "f8"
         },
         "yaxis": "y2"
        }
       ],
       "layout": {
        "legend": {
         "title": {
          "text": "Leyenda"
         }
        },
        "plot_bgcolor": "#D7F3ED",
        "template": {
         "data": {
          "bar": [
           {
            "error_x": {
             "color": "#2a3f5f"
            },
            "error_y": {
             "color": "#2a3f5f"
            },
            "marker": {
             "line": {
              "color": "#E5ECF6",
              "width": 0.5
             },
             "pattern": {
              "fillmode": "overlay",
              "size": 10,
              "solidity": 0.2
             }
            },
            "type": "bar"
           }
          ],
          "barpolar": [
           {
            "marker": {
             "line": {
              "color": "#E5ECF6",
              "width": 0.5
             },
             "pattern": {
              "fillmode": "overlay",
              "size": 10,
              "solidity": 0.2
             }
            },
            "type": "barpolar"
           }
          ],
          "carpet": [
           {
            "aaxis": {
             "endlinecolor": "#2a3f5f",
             "gridcolor": "white",
             "linecolor": "white",
             "minorgridcolor": "white",
             "startlinecolor": "#2a3f5f"
            },
            "baxis": {
             "endlinecolor": "#2a3f5f",
             "gridcolor": "white",
             "linecolor": "white",
             "minorgridcolor": "white",
             "startlinecolor": "#2a3f5f"
            },
            "type": "carpet"
           }
          ],
          "choropleth": [
           {
            "colorbar": {
             "outlinewidth": 0,
             "ticks": ""
            },
            "type": "choropleth"
           }
          ],
          "contour": [
           {
            "colorbar": {
             "outlinewidth": 0,
             "ticks": ""
            },
            "colorscale": [
             [
              0,
              "#0d0887"
             ],
             [
              0.1111111111111111,
              "#46039f"
             ],
             [
              0.2222222222222222,
              "#7201a8"
             ],
             [
              0.3333333333333333,
              "#9c179e"
             ],
             [
              0.4444444444444444,
              "#bd3786"
             ],
             [
              0.5555555555555556,
              "#d8576b"
             ],
             [
              0.6666666666666666,
              "#ed7953"
             ],
             [
              0.7777777777777778,
              "#fb9f3a"
             ],
             [
              0.8888888888888888,
              "#fdca26"
             ],
             [
              1,
              "#f0f921"
             ]
            ],
            "type": "contour"
           }
          ],
          "contourcarpet": [
           {
            "colorbar": {
             "outlinewidth": 0,
             "ticks": ""
            },
            "type": "contourcarpet"
           }
          ],
          "heatmap": [
           {
            "colorbar": {
             "outlinewidth": 0,
             "ticks": ""
            },
            "colorscale": [
             [
              0,
              "#0d0887"
             ],
             [
              0.1111111111111111,
              "#46039f"
             ],
             [
              0.2222222222222222,
              "#7201a8"
             ],
             [
              0.3333333333333333,
              "#9c179e"
             ],
             [
              0.4444444444444444,
              "#bd3786"
             ],
             [
              0.5555555555555556,
              "#d8576b"
             ],
             [
              0.6666666666666666,
              "#ed7953"
             ],
             [
              0.7777777777777778,
              "#fb9f3a"
             ],
             [
              0.8888888888888888,
              "#fdca26"
             ],
             [
              1,
              "#f0f921"
             ]
            ],
            "type": "heatmap"
           }
          ],
          "histogram": [
           {
            "marker": {
             "pattern": {
              "fillmode": "overlay",
              "size": 10,
              "solidity": 0.2
             }
            },
            "type": "histogram"
           }
          ],
          "histogram2d": [
           {
            "colorbar": {
             "outlinewidth": 0,
             "ticks": ""
            },
            "colorscale": [
             [
              0,
              "#0d0887"
             ],
             [
              0.1111111111111111,
              "#46039f"
             ],
             [
              0.2222222222222222,
              "#7201a8"
             ],
             [
              0.3333333333333333,
              "#9c179e"
             ],
             [
              0.4444444444444444,
              "#bd3786"
             ],
             [
              0.5555555555555556,
              "#d8576b"
             ],
             [
              0.6666666666666666,
              "#ed7953"
             ],
             [
              0.7777777777777778,
              "#fb9f3a"
             ],
             [
              0.8888888888888888,
              "#fdca26"
             ],
             [
              1,
              "#f0f921"
             ]
            ],
            "type": "histogram2d"
           }
          ],
          "histogram2dcontour": [
           {
            "colorbar": {
             "outlinewidth": 0,
             "ticks": ""
            },
            "colorscale": [
             [
              0,
              "#0d0887"
             ],
             [
              0.1111111111111111,
              "#46039f"
             ],
             [
              0.2222222222222222,
              "#7201a8"
             ],
             [
              0.3333333333333333,
              "#9c179e"
             ],
             [
              0.4444444444444444,
              "#bd3786"
             ],
             [
              0.5555555555555556,
              "#d8576b"
             ],
             [
              0.6666666666666666,
              "#ed7953"
             ],
             [
              0.7777777777777778,
              "#fb9f3a"
             ],
             [
              0.8888888888888888,
              "#fdca26"
             ],
             [
              1,
              "#f0f921"
             ]
            ],
            "type": "histogram2dcontour"
           }
          ],
          "mesh3d": [
           {
            "colorbar": {
             "outlinewidth": 0,
             "ticks": ""
            },
            "type": "mesh3d"
           }
          ],
          "parcoords": [
           {
            "line": {
             "colorbar": {
              "outlinewidth": 0,
              "ticks": ""
             }
            },
            "type": "parcoords"
           }
          ],
          "pie": [
           {
            "automargin": true,
            "type": "pie"
           }
          ],
          "scatter": [
           {
            "fillpattern": {
             "fillmode": "overlay",
             "size": 10,
             "solidity": 0.2
            },
            "type": "scatter"
           }
          ],
          "scatter3d": [
           {
            "line": {
             "colorbar": {
              "outlinewidth": 0,
              "ticks": ""
             }
            },
            "marker": {
             "colorbar": {
              "outlinewidth": 0,
              "ticks": ""
             }
            },
            "type": "scatter3d"
           }
          ],
          "scattercarpet": [
           {
            "marker": {
             "colorbar": {
              "outlinewidth": 0,
              "ticks": ""
             }
            },
            "type": "scattercarpet"
           }
          ],
          "scattergeo": [
           {
            "marker": {
             "colorbar": {
              "outlinewidth": 0,
              "ticks": ""
             }
            },
            "type": "scattergeo"
           }
          ],
          "scattergl": [
           {
            "marker": {
             "colorbar": {
              "outlinewidth": 0,
              "ticks": ""
             }
            },
            "type": "scattergl"
           }
          ],
          "scattermap": [
           {
            "marker": {
             "colorbar": {
              "outlinewidth": 0,
              "ticks": ""
             }
            },
            "type": "scattermap"
           }
          ],
          "scattermapbox": [
           {
            "marker": {
             "colorbar": {
              "outlinewidth": 0,
              "ticks": ""
             }
            },
            "type": "scattermapbox"
           }
          ],
          "scatterpolar": [
           {
            "marker": {
             "colorbar": {
              "outlinewidth": 0,
              "ticks": ""
             }
            },
            "type": "scatterpolar"
           }
          ],
          "scatterpolargl": [
           {
            "marker": {
             "colorbar": {
              "outlinewidth": 0,
              "ticks": ""
             }
            },
            "type": "scatterpolargl"
           }
          ],
          "scatterternary": [
           {
            "marker": {
             "colorbar": {
              "outlinewidth": 0,
              "ticks": ""
             }
            },
            "type": "scatterternary"
           }
          ],
          "surface": [
           {
            "colorbar": {
             "outlinewidth": 0,
             "ticks": ""
            },
            "colorscale": [
             [
              0,
              "#0d0887"
             ],
             [
              0.1111111111111111,
              "#46039f"
             ],
             [
              0.2222222222222222,
              "#7201a8"
             ],
             [
              0.3333333333333333,
              "#9c179e"
             ],
             [
              0.4444444444444444,
              "#bd3786"
             ],
             [
              0.5555555555555556,
              "#d8576b"
             ],
             [
              0.6666666666666666,
              "#ed7953"
             ],
             [
              0.7777777777777778,
              "#fb9f3a"
             ],
             [
              0.8888888888888888,
              "#fdca26"
             ],
             [
              1,
              "#f0f921"
             ]
            ],
            "type": "surface"
           }
          ],
          "table": [
           {
            "cells": {
             "fill": {
              "color": "#EBF0F8"
             },
             "line": {
              "color": "white"
             }
            },
            "header": {
             "fill": {
              "color": "#C8D4E3"
             },
             "line": {
              "color": "white"
             }
            },
            "type": "table"
           }
          ]
         },
         "layout": {
          "annotationdefaults": {
           "arrowcolor": "#2a3f5f",
           "arrowhead": 0,
           "arrowwidth": 1
          },
          "autotypenumbers": "strict",
          "coloraxis": {
           "colorbar": {
            "outlinewidth": 0,
            "ticks": ""
           }
          },
          "colorscale": {
           "diverging": [
            [
             0,
             "#8e0152"
            ],
            [
             0.1,
             "#c51b7d"
            ],
            [
             0.2,
             "#de77ae"
            ],
            [
             0.3,
             "#f1b6da"
            ],
            [
             0.4,
             "#fde0ef"
            ],
            [
             0.5,
             "#f7f7f7"
            ],
            [
             0.6,
             "#e6f5d0"
            ],
            [
             0.7,
             "#b8e186"
            ],
            [
             0.8,
             "#7fbc41"
            ],
            [
             0.9,
             "#4d9221"
            ],
            [
             1,
             "#276419"
            ]
           ],
           "sequential": [
            [
             0,
             "#0d0887"
            ],
            [
             0.1111111111111111,
             "#46039f"
            ],
            [
             0.2222222222222222,
             "#7201a8"
            ],
            [
             0.3333333333333333,
             "#9c179e"
            ],
            [
             0.4444444444444444,
             "#bd3786"
            ],
            [
             0.5555555555555556,
             "#d8576b"
            ],
            [
             0.6666666666666666,
             "#ed7953"
            ],
            [
             0.7777777777777778,
             "#fb9f3a"
            ],
            [
             0.8888888888888888,
             "#fdca26"
            ],
            [
             1,
             "#f0f921"
            ]
           ],
           "sequentialminus": [
            [
             0,
             "#0d0887"
            ],
            [
             0.1111111111111111,
             "#46039f"
            ],
            [
             0.2222222222222222,
             "#7201a8"
            ],
            [
             0.3333333333333333,
             "#9c179e"
            ],
            [
             0.4444444444444444,
             "#bd3786"
            ],
            [
             0.5555555555555556,
             "#d8576b"
            ],
            [
             0.6666666666666666,
             "#ed7953"
            ],
            [
             0.7777777777777778,
             "#fb9f3a"
            ],
            [
             0.8888888888888888,
             "#fdca26"
            ],
            [
             1,
             "#f0f921"
            ]
           ]
          },
          "colorway": [
           "#636efa",
           "#EF553B",
           "#00cc96",
           "#ab63fa",
           "#FFA15A",
           "#19d3f3",
           "#FF6692",
           "#B6E880",
           "#FF97FF",
           "#FECB52"
          ],
          "font": {
           "color": "#2a3f5f"
          },
          "geo": {
           "bgcolor": "white",
           "lakecolor": "white",
           "landcolor": "#E5ECF6",
           "showlakes": true,
           "showland": true,
           "subunitcolor": "white"
          },
          "hoverlabel": {
           "align": "left"
          },
          "hovermode": "closest",
          "mapbox": {
           "style": "light"
          },
          "paper_bgcolor": "white",
          "plot_bgcolor": "#E5ECF6",
          "polar": {
           "angularaxis": {
            "gridcolor": "white",
            "linecolor": "white",
            "ticks": ""
           },
           "bgcolor": "#E5ECF6",
           "radialaxis": {
            "gridcolor": "white",
            "linecolor": "white",
            "ticks": ""
           }
          },
          "scene": {
           "xaxis": {
            "backgroundcolor": "#E5ECF6",
            "gridcolor": "white",
            "gridwidth": 2,
            "linecolor": "white",
            "showbackground": true,
            "ticks": "",
            "zerolinecolor": "white"
           },
           "yaxis": {
            "backgroundcolor": "#E5ECF6",
            "gridcolor": "white",
            "gridwidth": 2,
            "linecolor": "white",
            "showbackground": true,
            "ticks": "",
            "zerolinecolor": "white"
           },
           "zaxis": {
            "backgroundcolor": "#E5ECF6",
            "gridcolor": "white",
            "gridwidth": 2,
            "linecolor": "white",
            "showbackground": true,
            "ticks": "",
            "zerolinecolor": "white"
           }
          },
          "shapedefaults": {
           "line": {
            "color": "#2a3f5f"
           }
          },
          "ternary": {
           "aaxis": {
            "gridcolor": "white",
            "linecolor": "white",
            "ticks": ""
           },
           "baxis": {
            "gridcolor": "white",
            "linecolor": "white",
            "ticks": ""
           },
           "bgcolor": "#E5ECF6",
           "caxis": {
            "gridcolor": "white",
            "linecolor": "white",
            "ticks": ""
           }
          },
          "title": {
           "x": 0.05
          },
          "xaxis": {
           "automargin": true,
           "gridcolor": "white",
           "linecolor": "white",
           "ticks": "",
           "title": {
            "standoff": 15
           },
           "zerolinecolor": "white",
           "zerolinewidth": 2
          },
          "yaxis": {
           "automargin": true,
           "gridcolor": "white",
           "linecolor": "white",
           "ticks": "",
           "title": {
            "standoff": 15
           },
           "zerolinecolor": "white",
           "zerolinewidth": 2
          }
         }
        },
        "title": {
         "text": "Cuatro indices principales entorno EE.UU."
        },
        "xaxis": {
         "gridcolor": "lightgray",
         "gridwidth": 1,
         "showgrid": true,
         "title": {
          "text": "Fecha"
         }
        },
        "yaxis": {
         "gridcolor": "lightgray",
         "gridwidth": 1,
         "showgrid": true,
         "title": {
          "text": "$"
         }
        },
        "yaxis2": {
         "overlaying": "y",
         "side": "right",
         "title": {
          "text": "Bit"
         }
        }
       }
      }
     },
     "metadata": {},
     "output_type": "display_data"
    },
    {
     "data": {
      "text/plain": [
       "<Figure size 1200x1200 with 0 Axes>"
      ]
     },
     "metadata": {},
     "output_type": "display_data"
    }
   ],
   "source": [
    "#****graficamos con polty ayudado por la IA****************************************************\n",
    "\n",
    "import numpy as np\n",
    "import plotly.graph_objects as go\n",
    "'''\n",
    "\n",
    "\n",
    "plt.figure(figsize=(12, 6))  # Tamaño de la figura\n",
    "x = df_m2['Fecha']\n",
    "y1 = df_m2['m2']\n",
    "y2 = df_sp['Precio_Cierre_SP500_USD']\n",
    "y3 = df_oro['P_oro']\n",
    "y4 = df_btc['P_btc']\n",
    "# Graficar línea con personalización\n",
    "plt.plot(x, (y1/10), label='Cuadrados', color='black', linestyle='solid', linewidth =0.5, marker = 'o', markersize =1, markerfacecolor ='black', markeredgecolor = 'black')\n",
    "plt.plot(x, (y2), label='Cuadrados', color='red', linestyle='solid', linewidth =0.5, marker = 'o', markersize =1, markerfacecolor ='red', markeredgecolor = 'red')\n",
    "plt.plot(x, (y3), label='Cuadrados', color='orange', linestyle='solid', linewidth =0.5, marker = 'o', markersize =1, markerfacecolor ='orange', markeredgecolor = 'orange')\n",
    "plt.plot(x, (y4/10), label='Cuadrados', color='green', linestyle='solid', linewidth =0.5, marker = 'o', markersize =1, markerfacecolor ='green', markeredgecolor = 'green')\n",
    "\n",
    "\n",
    "\n",
    "\n",
    "\n",
    "'''\n",
    "\n",
    "plt.style.use(\"bmh\")\n",
    "plt.figure(figsize=(12, 12))  # Tamaño de la figura\n",
    "# Dominio de las funciones\n",
    "\n",
    "x = df_m2['Fecha']\n",
    "y1 = df_m2['m2']\n",
    "y22 = df_sp['Precio_Cierre_SP500_USD']\n",
    "y3 = df_oro['P_oro']\n",
    "y4 = df_btc['P_btc']\n",
    "\n",
    "# Crea cada traza para la gráfica\n",
    "fig = go.Figure()\n",
    "fig.add_trace(go.Scatter(x=x, y=y1, mode='lines', name='M2',  line=dict(color='black', width=1)))\n",
    "fig.add_trace(go.Scatter(x=x, y=y22, mode='lines', name='SP500', line=dict(color='red', width=1)))\n",
    "fig.add_trace(go.Scatter(x=x, y=y3, mode='lines', name='Oro', line=dict(color='yellow', width=1)))\n",
    "fig.add_trace(go.Scatter(x=x, y=y4, mode='lines', name='Btc', line=dict(color='green', width=1), yaxis='y2'))\n",
    "\n",
    "\n",
    "# pintar con indice a parte\n",
    "#fig.add_trace(go.Scatter(x=[1,2,3], y=[10,40,90], name='var2', yaxis='y2'))\n",
    "\n",
    "\n",
    "\n",
    "\n",
    "# Personaliza el gráfico (opcional)\n",
    "fig.update_layout(\n",
    "    xaxis=dict(showgrid=True, gridcolor='lightgray', gridwidth=1),\n",
    "    yaxis=dict(showgrid=True, gridcolor='lightgray', gridwidth=1),\n",
    "    yaxis2=dict( title=\"Bit\", overlaying='y',side='right'), #\n",
    "    title='Cuatro indices principales entorno EE.UU.',\n",
    "    xaxis_title='Fecha',\n",
    "    yaxis_title='$',\n",
    "    legend_title='Leyenda'\n",
    ")\n",
    "\n",
    "\n",
    "\n",
    "\n",
    "fig.update_layout(plot_bgcolor=\"#D7F3ED\")\n",
    "\n",
    "fig.show()\n"
   ]
  },
  {
   "cell_type": "code",
   "execution_count": null,
   "id": "7b09ff25",
   "metadata": {},
   "outputs": [
    {
     "data": {
      "text/plain": [
       "<seaborn.axisgrid.PairGrid at 0x1ce66ef88d0>"
      ]
     },
     "execution_count": 62,
     "metadata": {},
     "output_type": "execute_result"
    },
    {
     "data": {
      "image/png": "[encoded data removed]",
      "text/plain": [
       "<Figure size 1000x1000 with 20 Axes>"
      ]
     },
     "metadata": {},
     "output_type": "display_data"
    }
   ],
   "source": [
    "sns.pairplot(df_unido)"
   ]
  },
  {
   "cell_type": "code",
   "execution_count": 26,
   "id": "ca823871",
   "metadata": {},
   "outputs": [
    {
     "data": {
      "text/html": [
       "<div>\n",
       "<style scoped>\n",
       "    .dataframe tbody tr th:only-of-type {\n",
       "        vertical-align: middle;\n",
       "    }\n",
       "\n",
       "    .dataframe tbody tr th {\n",
       "        vertical-align: top;\n",
       "    }\n",
       "\n",
       "    .dataframe thead th {\n",
       "        text-align: right;\n",
       "    }\n",
       "</style>\n",
       "<table border=\"1\" class=\"dataframe\">\n",
       "  <thead>\n",
       "    <tr style=\"text-align: right;\">\n",
       "      <th></th>\n",
       "      <th>Date</th>\n",
       "      <th>SP500($)</th>\n",
       "      <th>Gold ($/oz)</th>\n",
       "      <th>m2 (Billions $)</th>\n",
       "      <th>Bitcoin price ($/unit)</th>\n",
       "    </tr>\n",
       "  </thead>\n",
       "  <tbody>\n",
       "    <tr>\n",
       "      <th>0</th>\n",
       "      <td>2014-10-01</td>\n",
       "      <td>1972.290039</td>\n",
       "      <td>1210.500000</td>\n",
       "      <td>11577.5</td>\n",
       "      <td>386.944000</td>\n",
       "    </tr>\n",
       "    <tr>\n",
       "      <th>1</th>\n",
       "      <td>2014-11-01</td>\n",
       "      <td>2018.050049</td>\n",
       "      <td>1171.099976</td>\n",
       "      <td>11618.2</td>\n",
       "      <td>338.321014</td>\n",
       "    </tr>\n",
       "    <tr>\n",
       "      <th>2</th>\n",
       "      <td>2014-12-01</td>\n",
       "      <td>2067.560059</td>\n",
       "      <td>1175.199951</td>\n",
       "      <td>11701.9</td>\n",
       "      <td>378.046997</td>\n",
       "    </tr>\n",
       "    <tr>\n",
       "      <th>3</th>\n",
       "      <td>2015-01-01</td>\n",
       "      <td>2058.899902</td>\n",
       "      <td>1183.900024</td>\n",
       "      <td>11788.8</td>\n",
       "      <td>320.192993</td>\n",
       "    </tr>\n",
       "    <tr>\n",
       "      <th>4</th>\n",
       "      <td>2015-02-01</td>\n",
       "      <td>1994.989990</td>\n",
       "      <td>1278.500000</td>\n",
       "      <td>11905.6</td>\n",
       "      <td>217.464005</td>\n",
       "    </tr>\n",
       "  </tbody>\n",
       "</table>\n",
       "</div>"
      ],
      "text/plain": [
       "        Date     SP500($)  Gold ($/oz)  m2 (Billions $)  \\\n",
       "0 2014-10-01  1972.290039  1210.500000          11577.5   \n",
       "1 2014-11-01  2018.050049  1171.099976          11618.2   \n",
       "2 2014-12-01  2067.560059  1175.199951          11701.9   \n",
       "3 2015-01-01  2058.899902  1183.900024          11788.8   \n",
       "4 2015-02-01  1994.989990  1278.500000          11905.6   \n",
       "\n",
       "   Bitcoin price ($/unit)  \n",
       "0              386.944000  \n",
       "1              338.321014  \n",
       "2              378.046997  \n",
       "3              320.192993  \n",
       "4              217.464005  "
      ]
     },
     "execution_count": 26,
     "metadata": {},
     "output_type": "execute_result"
    }
   ],
   "source": [
    "df_unido.head()"
   ]
  },
  {
   "cell_type": "code",
   "execution_count": null,
   "id": "25401861",
   "metadata": {},
   "outputs": [],
   "source": [
    "cols = df_unido.columns[1:5]\n",
    "\n",
    "# Calcula el porcentaje de variación respecto al primer valor de cada columna\n",
    "for col in cols:\n",
    "y1 = (df_unido[col] - df_unido[col].iloc[0]) / df_unido[col].iloc[0] * 100"
   ]
  },
  {
   "cell_type": "code",
   "execution_count": 50,
   "id": "2d386a27",
   "metadata": {},
   "outputs": [
    {
     "name": "stdout",
     "output_type": "stream",
     "text": [
      "Index(['SP500($)', 'Gold ($/oz)', 'm2 (Billions $)', 'Bitcoin price ($/unit)'], dtype='object')\n"
     ]
    }
   ],
   "source": [
    "print (cols)"
   ]
  },
  {
   "cell_type": "code",
   "execution_count": 55,
   "id": "5b51b2d3",
   "metadata": {},
   "outputs": [
    {
     "data": {
      "text/html": [
       "<div>\n",
       "<style scoped>\n",
       "    .dataframe tbody tr th:only-of-type {\n",
       "        vertical-align: middle;\n",
       "    }\n",
       "\n",
       "    .dataframe tbody tr th {\n",
       "        vertical-align: top;\n",
       "    }\n",
       "\n",
       "    .dataframe thead th {\n",
       "        text-align: right;\n",
       "    }\n",
       "</style>\n",
       "<table border=\"1\" class=\"dataframe\">\n",
       "  <thead>\n",
       "    <tr style=\"text-align: right;\">\n",
       "      <th></th>\n",
       "      <th>Date</th>\n",
       "      <th>SP500($)</th>\n",
       "      <th>Gold ($/oz)</th>\n",
       "      <th>m2 (Billions $)</th>\n",
       "      <th>Bitcoin price ($/unit)</th>\n",
       "      <th>SP500($)_pct</th>\n",
       "      <th>Gold ($/oz)_pct</th>\n",
       "      <th>m2 (Billions $)_pct</th>\n",
       "      <th>Bitcoin price ($/unit)_pct</th>\n",
       "      <th>SP500($)_pct_pct</th>\n",
       "      <th>Gold ($/oz)_pct_pct</th>\n",
       "      <th>m2 (Billions $)_pct_pct</th>\n",
       "    </tr>\n",
       "  </thead>\n",
       "  <tbody>\n",
       "    <tr>\n",
       "      <th>126</th>\n",
       "      <td>2025-04-01</td>\n",
       "      <td>5611.850098</td>\n",
       "      <td>3122.800049</td>\n",
       "      <td>21805.1</td>\n",
       "      <td>82548.914062</td>\n",
       "      <td>184.534728</td>\n",
       "      <td>157.976047</td>\n",
       "      <td>88.340315</td>\n",
       "      <td>21233.555763</td>\n",
       "      <td>inf</td>\n",
       "      <td>inf</td>\n",
       "      <td>inf</td>\n",
       "    </tr>\n",
       "    <tr>\n",
       "      <th>127</th>\n",
       "      <td>2025-05-01</td>\n",
       "      <td>5569.060059</td>\n",
       "      <td>3305.000000</td>\n",
       "      <td>21884.6</td>\n",
       "      <td>94207.312500</td>\n",
       "      <td>182.365167</td>\n",
       "      <td>173.027675</td>\n",
       "      <td>89.026992</td>\n",
       "      <td>24246.497798</td>\n",
       "      <td>inf</td>\n",
       "      <td>inf</td>\n",
       "      <td>inf</td>\n",
       "    </tr>\n",
       "    <tr>\n",
       "      <th>128</th>\n",
       "      <td>2025-06-01</td>\n",
       "      <td>5911.689941</td>\n",
       "      <td>3288.899902</td>\n",
       "      <td>22022.1</td>\n",
       "      <td>104638.093750</td>\n",
       "      <td>199.737352</td>\n",
       "      <td>171.697638</td>\n",
       "      <td>90.214640</td>\n",
       "      <td>26942.180182</td>\n",
       "      <td>inf</td>\n",
       "      <td>inf</td>\n",
       "      <td>inf</td>\n",
       "    </tr>\n",
       "    <tr>\n",
       "      <th>129</th>\n",
       "      <td>2025-07-01</td>\n",
       "      <td>6204.950195</td>\n",
       "      <td>3294.399902</td>\n",
       "      <td>22115.8</td>\n",
       "      <td>107135.335938</td>\n",
       "      <td>214.606375</td>\n",
       "      <td>172.151995</td>\n",
       "      <td>91.023969</td>\n",
       "      <td>27587.555788</td>\n",
       "      <td>inf</td>\n",
       "      <td>inf</td>\n",
       "      <td>inf</td>\n",
       "    </tr>\n",
       "    <tr>\n",
       "      <th>130</th>\n",
       "      <td>2025-08-01</td>\n",
       "      <td>6339.390137</td>\n",
       "      <td>3293.199951</td>\n",
       "      <td>22195.4</td>\n",
       "      <td>115758.203125</td>\n",
       "      <td>221.422814</td>\n",
       "      <td>172.052867</td>\n",
       "      <td>91.711509</td>\n",
       "      <td>29816.009307</td>\n",
       "      <td>inf</td>\n",
       "      <td>inf</td>\n",
       "      <td>inf</td>\n",
       "    </tr>\n",
       "  </tbody>\n",
       "</table>\n",
       "</div>"
      ],
      "text/plain": [
       "          Date     SP500($)  Gold ($/oz)  m2 (Billions $)  \\\n",
       "126 2025-04-01  5611.850098  3122.800049          21805.1   \n",
       "127 2025-05-01  5569.060059  3305.000000          21884.6   \n",
       "128 2025-06-01  5911.689941  3288.899902          22022.1   \n",
       "129 2025-07-01  6204.950195  3294.399902          22115.8   \n",
       "130 2025-08-01  6339.390137  3293.199951          22195.4   \n",
       "\n",
       "     Bitcoin price ($/unit)  SP500($)_pct  Gold ($/oz)_pct  \\\n",
       "126            82548.914062    184.534728       157.976047   \n",
       "127            94207.312500    182.365167       173.027675   \n",
       "128           104638.093750    199.737352       171.697638   \n",
       "129           107135.335938    214.606375       172.151995   \n",
       "130           115758.203125    221.422814       172.052867   \n",
       "\n",
       "     m2 (Billions $)_pct  Bitcoin price ($/unit)_pct  SP500($)_pct_pct  \\\n",
       "126            88.340315                21233.555763               inf   \n",
       "127            89.026992                24246.497798               inf   \n",
       "128            90.214640                26942.180182               inf   \n",
       "129            91.023969                27587.555788               inf   \n",
       "130            91.711509                29816.009307               inf   \n",
       "\n",
       "     Gold ($/oz)_pct_pct  m2 (Billions $)_pct_pct  \n",
       "126                  inf                      inf  \n",
       "127                  inf                      inf  \n",
       "128                  inf                      inf  \n",
       "129                  inf                      inf  \n",
       "130                  inf                      inf  "
      ]
     },
     "execution_count": 55,
     "metadata": {},
     "output_type": "execute_result"
    }
   ],
   "source": [
    "df_unido.tail()"
   ]
  },
  {
   "cell_type": "code",
   "execution_count": 58,
   "id": "748db968",
   "metadata": {},
   "outputs": [
    {
     "data": {
      "image/png": "[encoded data removed]",
      "text/plain": [
       "<Figure size 1200x600 with 1 Axes>"
      ]
     },
     "metadata": {},
     "output_type": "display_data"
    }
   ],
   "source": [
    "#GRAFICAMOS todos los DF\n",
    "import matplotlib.pyplot as plt\n",
    "plt.style.use(\"bmh\")\n",
    "'''\n",
    "y1 = (df_unido[col] - df_unido[col].iloc[0]) / df_unido[col].iloc[0] * 100\n",
    "\n",
    "\n",
    "'''\n",
    "\n",
    "\n",
    "\n",
    "\n",
    "\n",
    "\n",
    "plt.figure(figsize=(12, 6))  # Tamaño de la figura\n",
    "x = df_m2['Fecha']\n",
    "y1 = df_m2['m2']-df_m2['m2'].iloc[0]/df_m2['m2'].iloc[0]*100\n",
    "y2 = df_sp['Precio_Cierre_SP500_USD']-df_sp['Precio_Cierre_SP500_USD'].iloc[0]/df_sp['Precio_Cierre_SP500_USD'].iloc[0]*100\n",
    "y3 = df_oro['P_oro']-df_oro['P_oro'].iloc[0]/df_oro['P_oro'].iloc[0]*100\n",
    "y4 = df_btc['P_btc']-df_btc['P_btc'].iloc[0]/df_btc['P_btc'].iloc[0]*100\n",
    "\n",
    "\n",
    "y1_inicio = y1.iloc[0] if hasattr(y1, 'iloc') else y1[0]\n",
    "y2_inicio = y2.iloc[0] if hasattr(y2, 'iloc') else y2[0]\n",
    "y3_inicio = y3.iloc[0] if hasattr(y3, 'iloc') else y3[0]\n",
    "y4_inicio = y4.iloc[0] if hasattr(y4, 'iloc') else y4[0]\n",
    "\n",
    "# Normaliza restando el valor inicial\n",
    "y1_norm = y1 - y1_inicio\n",
    "y2_norm = y2 - y2_inicio\n",
    "y3_norm = y3 - y3_inicio\n",
    "y4_norm = y4 - y4_inicio\n",
    "\n",
    "# Graficar línea con personalización\n",
    "plt.plot(x, df_unido['m2 (Billions $)_pct'], label='M2 EEUU', color='black', linestyle='solid', linewidth =0.5, marker = 'o', markersize =1, markerfacecolor ='black', markeredgecolor = 'black')\n",
    "plt.plot(x, df_unido['SP500($)_pct'], label='S&P 500', color='red', linestyle='solid', linewidth =0.5, marker = 'o', markersize =1, markerfacecolor ='red', markeredgecolor = 'red')\n",
    "plt.plot(x, df_unido['Gold ($/oz)_pct'], label='Oro', color='orange', linestyle='solid', linewidth =0.5, marker = 'o', markersize =1, markerfacecolor ='orange', markeredgecolor = 'orange')\n",
    "#plt.plot(x, (y4), label='Bitcoin/10', color='green', linestyle='solid', linewidth =0.5, marker = 'o', markersize =1, markerfacecolor ='green', markeredgecolor = 'green')\n",
    "\n",
    "plt.legend(loc='upper left', fontsize=10)\n",
    "\n",
    "'''\n",
    "         linestyle='solid',      # Estilo de línea: 'solid', 'dashed', 'dotted', etc.\n",
    "         color='blue',           # Color de la línea\n",
    "         linewidth=0.5,            # Grosor de la línea\n",
    "         marker='o',             # Marcadores en puntos ('o', '^', 's', etc.)\n",
    "         markersize=1,           # Tamaño de los marcadores\n",
    "         markerfacecolor='red',  # Color interior de los marcadores\n",
    "         markeredgecolor='black')# Color del borde de los marcadores\n",
    "\n",
    "\n",
    "'''\n",
    "\n",
    "# Añadir título y etiquetas de ejes\n",
    "plt.title('revalorizacion (%) desde oct/14')\n",
    "plt.xlabel('Fecha')\n",
    "plt.ylabel('revalorización desde oct14 (%)')\n",
    "\n",
    "\n",
    "# Rotar etiquetas del eje X para mejor legibilidad\n",
    "#plt.xticks(rotation=45)\n",
    "\n",
    "# Mostrar cuadrícula\n",
    "plt.grid(True)\n",
    "\n",
    "# Mostrar la gráfica\n",
    "plt.show()"
   ]
  }
 ],
 "metadata": {
  "kernelspec": {
   "display_name": "Python 3",
   "language": "python",
   "name": "python3"
  },
  "language_info": {
   "codemirror_mode": {
    "name": "ipython",
    "version": 3
   },
   "file_extension": ".py",
   "mimetype": "text/x-python",
   "name": "python",
   "nbconvert_exporter": "python",
   "pygments_lexer": "ipython3",
   "version": "3.11.9"
  }
 },
 "nbformat": 4,
 "nbformat_minor": 5
}
