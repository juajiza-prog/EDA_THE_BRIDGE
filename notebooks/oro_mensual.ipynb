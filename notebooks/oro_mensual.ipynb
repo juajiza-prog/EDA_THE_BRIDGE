{
 "cells": [
  {
   "cell_type": "code",
   "execution_count": 3,
   "id": "d9047f87",
   "metadata": {},
   "outputs": [
    {
     "name": "stderr",
     "output_type": "stream",
     "text": [
      "C:\\Users\\juaji\\AppData\\Local\\Temp\\ipykernel_35648\\1383038248.py:19: FutureWarning: YF.download() has changed argument auto_adjust default to True\n",
      "  df_diario = yf.download(simbolo_oro, start=fecha_inicio, end=fecha_fin)\n",
      "[*********************100%***********************]  1 of 1 completed"
     ]
    },
    {
     "name": "stdout",
     "output_type": "stream",
     "text": [
      "Descargando datos diarios para el Oro (GC=F)...\n",
      "Convirtiendo datos diarios a mensuales...\n",
      "\n",
      "¡Proceso Completado! \n",
      "El archivo CSV 'oro_mensual.csv' ha sido guardado en la carpeta actual.\n"
     ]
    },
    {
     "name": "stderr",
     "output_type": "stream",
     "text": [
      "\n",
      "C:\\Users\\juaji\\AppData\\Local\\Temp\\ipykernel_35648\\1383038248.py:32: FutureWarning: 'M' is deprecated and will be removed in a future version, please use 'ME' instead.\n",
      "  df_mensual = df_diario['Close'].resample('M').last()\n"
     ]
    }
   ],
   "source": [
    "import yfinance as yf\n",
    "import pandas as pd\n",
    "import datetime as dt\n",
    "\n",
    "# --- Parámetros de la Descarga ---\n",
    "# Símbolo para el Contrato de Futuro de Oro (Gold Futures) en Yahoo Finance\n",
    "simbolo_oro = \"GC=F\" \n",
    "\n",
    "# Rango de fechas solicitado: 30/09/2014 hasta 30/09/2025\n",
    "fecha_inicio = \"2014-09-01\" \n",
    "fecha_fin = \"2025-10-01\" # Usamos el 1 de octubre para asegurar el dato de cierre de septiembre\n",
    "\n",
    "nombre_archivo = \"Precio_Oro_Mensual_2014_2025.csv\"\n",
    "\n",
    "# 1. Descargar los datos diarios en un DataFrame\n",
    "print(f\"Descargando datos diarios para el Oro ({simbolo_oro})...\")\n",
    "try:\n",
    "    # yfinance utiliza la fecha de inicio y la fecha de fin para el rango.\n",
    "    df_diario = yf.download(simbolo_oro, start=fecha_inicio, end=fecha_fin)\n",
    "except Exception as e:\n",
    "    print(f\"Error al descargar datos: {e}\")\n",
    "    exit()\n",
    "\n",
    "# 2. Convertir los datos de \"Cierre\" (Close) de diario a mensual\n",
    "# Agrupamos por mes ('M') y tomamos el precio de cierre del último día del mes (.last())\n",
    "print(\"Convirtiendo datos diarios a mensuales...\")\n",
    "# Verifica si el DataFrame tiene datos (podría fallar si el símbolo fue incorrecto)\n",
    "if df_diario.empty:\n",
    "    print(\"No se encontraron datos. Verifique el símbolo.\")\n",
    "    exit()\n",
    "\n",
    "df_mensual = df_diario['Close'].resample('M').last()\n",
    "#nombre_archivo =\"sp500_mensual.csv\"\n",
    "# Limpieza y formato\n",
    "df_mensual.index.name = 'Fecha'\n",
    "df_mensual.columns = ['Precio_Cierre_Oro_USD'] # Precio por onza troy en USD\n",
    "\n",
    "# 3. Guardar el DataFrame mensual a un archivo CSV\n",
    "df_mensual.to_csv('oro_mensual.csv' , index=True )\n",
    "\n",
    "# 4. Confirmación\n",
    "print(f\"\\n¡Proceso Completado! \")\n",
    "print(f\"El archivo CSV '{'oro_mensual.csv'}' ha sido guardado en la carpeta actual.\")\n"
   ]
  },
  {
   "cell_type": "code",
   "execution_count": 4,
   "id": "83f63b3a",
   "metadata": {},
   "outputs": [
    {
     "name": "stdout",
     "output_type": "stream",
     "text": [
      "\n",
      "Primeros y últimos datos del DataFrame (Mensual):\n",
      "            Precio_Cierre_Oro_USD\n",
      "Fecha                            \n",
      "2014-09-30            1210.500000\n",
      "2014-10-31            1171.099976\n",
      "2014-11-30            1175.199951\n",
      "2014-12-31            1183.900024\n",
      "2015-01-31            1278.500000\n",
      "...\n",
      "            Precio_Cierre_Oro_USD\n",
      "Fecha                            \n",
      "2025-05-31            3288.899902\n",
      "2025-06-30            3294.399902\n",
      "2025-07-31            3293.199951\n",
      "2025-08-31            3473.699951\n",
      "2025-09-30            3840.800049\n"
     ]
    }
   ],
   "source": [
    "print(\"\\nPrimeros y últimos datos del DataFrame (Mensual):\")\n",
    "print(df_mensual.head())\n",
    "print(\"...\")\n",
    "print(df_mensual.tail())"
   ]
  }
 ],
 "metadata": {
  "kernelspec": {
   "display_name": "Python 3",
   "language": "python",
   "name": "python3"
  },
  "language_info": {
   "codemirror_mode": {
    "name": "ipython",
    "version": 3
   },
   "file_extension": ".py",
   "mimetype": "text/x-python",
   "name": "python",
   "nbconvert_exporter": "python",
   "pygments_lexer": "ipython3",
   "version": "3.11.9"
  }
 },
 "nbformat": 4,
 "nbformat_minor": 5
}
