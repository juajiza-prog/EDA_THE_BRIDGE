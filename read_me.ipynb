{
 "cells": [
  {
   "cell_type": "markdown",
   "id": "aaf20310",
   "metadata": {},
   "source": [
    "![descripcion](/img/corr6.jpg)"
   ]
  },
  {
   "cell_type": "code",
   "execution_count": null,
   "id": "bc0dd26e",
   "metadata": {},
   "outputs": [],
   "source": []
  }
 ],
 "metadata": {
  "language_info": {
   "name": "python"
  }
 },
 "nbformat": 4,
 "nbformat_minor": 5
}
