{
 "cells": [
  {
   "cell_type": "code",
   "execution_count": 1,
   "id": "e8365be8",
   "metadata": {},
   "outputs": [
    {
     "name": "stdout",
     "output_type": "stream",
     "text": [
      "Descargando datos mensuales de M2 (M2SL) desde FRED...\n"
     ]
    }
   ],
   "source": [
    "import pandas_datareader.data as web\n",
    "import datetime as dt\n",
    "import pandas as pd\n",
    "\n",
    "# --- Parámetros de la Descarga ---\n",
    "# Símbolo oficial para la M2 Desestacionalizada en FRED (Federal Reserve Economic Data)\n",
    "codigo_m2 = 'M2SL' \n",
    "fuente_datos = 'fred'\n",
    "\n",
    "# Rango de fechas solicitado: 30/09/2014 hasta 30/09/2025\n",
    "fecha_inicio = dt.datetime(2014, 10, 1) \n",
    "fecha_fin = dt.datetime(2025, 9, 1) # Usamos el 1 de octubre para asegurar el dato de cierre de septiembre\n",
    "\n",
    "nombre_archivo = \"M2_EEUU_Mensual_2014_2025.csv\"\n",
    "\n",
    "# 1. Descargar los datos mensuales directamente en un DataFrame\n",
    "print(f\"Descargando datos mensuales de M2 ({codigo_m2}) desde FRED...\")\n",
    "try:\n",
    "    # La M2 ya se publica con frecuencia mensual, por lo que no necesita 'resample'\n",
    "    df_m2 = web.DataReader(codigo_m2, fuente_datos, fecha_inicio, fecha_fin)\n",
    "except Exception as e:\n",
    "    print(f\"Error al descargar datos de FRED: {e}\")\n",
    "    print(\"Asegúrate de tener instalada la librería 'pandas-datareader'.\")\n",
    "    exit()\n",
    "\n",
    "# 2. Formato del DataFrame\n",
    "df_m2.index.name = 'Fecha'\n",
    "df_m2.columns = ['M2_Trillones_USD'] # La serie 'M2SL' suele estar en miles de millones (Billions)\n",
    "\n",
    "# 3. Guardar el DataFrame a un archivo CSV\n",
    "#df_m2.to_csv(nombre_archivo)\n",
    "df_m2.to_csv('m2_mensual.csv', index=True)\n",
    "\n"
   ]
  },
  {
   "cell_type": "code",
   "execution_count": 2,
   "id": "54585e63",
   "metadata": {},
   "outputs": [
    {
     "name": "stdout",
     "output_type": "stream",
     "text": [
      "\n",
      "¡Proceso Completado! 🎉\n",
      "El archivo CSV 'M2_EEUU_Mensual_2014_2025.csv' ha sido guardado en la carpeta actual.\n",
      "\n",
      "Primeros y últimos datos del DataFrame (Mensual):\n"
     ]
    },
    {
     "data": {
      "text/html": [
       "<div>\n",
       "<style scoped>\n",
       "    .dataframe tbody tr th:only-of-type {\n",
       "        vertical-align: middle;\n",
       "    }\n",
       "\n",
       "    .dataframe tbody tr th {\n",
       "        vertical-align: top;\n",
       "    }\n",
       "\n",
       "    .dataframe thead th {\n",
       "        text-align: right;\n",
       "    }\n",
       "</style>\n",
       "<table border=\"1\" class=\"dataframe\">\n",
       "  <thead>\n",
       "    <tr style=\"text-align: right;\">\n",
       "      <th></th>\n",
       "      <th>M2_Trillones_USD</th>\n",
       "    </tr>\n",
       "    <tr>\n",
       "      <th>Fecha</th>\n",
       "      <th></th>\n",
       "    </tr>\n",
       "  </thead>\n",
       "  <tbody>\n",
       "    <tr>\n",
       "      <th>2014-10-01</th>\n",
       "      <td>11577.5</td>\n",
       "    </tr>\n",
       "    <tr>\n",
       "      <th>2014-11-01</th>\n",
       "      <td>11618.2</td>\n",
       "    </tr>\n",
       "    <tr>\n",
       "      <th>2014-12-01</th>\n",
       "      <td>11701.9</td>\n",
       "    </tr>\n",
       "    <tr>\n",
       "      <th>2015-01-01</th>\n",
       "      <td>11788.8</td>\n",
       "    </tr>\n",
       "    <tr>\n",
       "      <th>2015-02-01</th>\n",
       "      <td>11905.6</td>\n",
       "    </tr>\n",
       "  </tbody>\n",
       "</table>\n",
       "</div>"
      ],
      "text/plain": [
       "            M2_Trillones_USD\n",
       "Fecha                       \n",
       "2014-10-01           11577.5\n",
       "2014-11-01           11618.2\n",
       "2014-12-01           11701.9\n",
       "2015-01-01           11788.8\n",
       "2015-02-01           11905.6"
      ]
     },
     "execution_count": 2,
     "metadata": {},
     "output_type": "execute_result"
    }
   ],
   "source": [
    "# 4. Confirmación\n",
    "print(f\"\\n¡Proceso Completado! 🎉\")\n",
    "print(f\"El archivo CSV '{nombre_archivo}' ha sido guardado en la carpeta actual.\")\n",
    "print(\"\\nPrimeros y últimos datos del DataFrame (Mensual):\")\n",
    "df_m2.head()\n",
    "#print(\"...\")\n",
    "#print(df_m2.tail())"
   ]
  }
 ],
 "metadata": {
  "kernelspec": {
   "display_name": "Python 3",
   "language": "python",
   "name": "python3"
  },
  "language_info": {
   "codemirror_mode": {
    "name": "ipython",
    "version": 3
   },
   "file_extension": ".py",
   "mimetype": "text/x-python",
   "name": "python",
   "nbconvert_exporter": "python",
   "pygments_lexer": "ipython3",
   "version": "3.11.9"
  }
 },
 "nbformat": 4,
 "nbformat_minor": 5
}
